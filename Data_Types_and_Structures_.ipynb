{
  "nbformat": 4,
  "nbformat_minor": 0,
  "metadata": {
    "colab": {
      "provenance": [],
      "authorship_tag": "ABX9TyO3NrgWqM7xafgodMcZqHbo",
      "include_colab_link": true
    },
    "kernelspec": {
      "name": "python3",
      "display_name": "Python 3"
    },
    "language_info": {
      "name": "python"
    }
  },
  "cells": [
    {
      "cell_type": "markdown",
      "metadata": {
        "id": "view-in-github",
        "colab_type": "text"
      },
      "source": [
        "<a href=\"https://colab.research.google.com/github/Manu2003-del/Manu/blob/main/Data_Types_and_Structures_.ipynb\" target=\"_parent\"><img src=\"https://colab.research.google.com/assets/colab-badge.svg\" alt=\"Open In Colab\"/></a>"
      ]
    },
    {
      "cell_type": "markdown",
      "source": [
        "\n",
        "\n",
        "#What are data structures, and why are they important?\n",
        " -Data structure is a way of organizing and storing data so that it can be accessed and manipulated effeciently.\n",
        " -Importance of data structures:\n",
        " 1.Efficient access.\n",
        " 2.Easy to understand.\n",
        " 3.Solve problems.\n",
        " 4.Unterstand new frameworks.\n",
        "\n",
        "#Explain the difference between mutable and immutable data types with examples?\n",
        " -Mutable data types refers to data structures that can be modified\n",
        "  after creation,while \"immutable\" data types cannot be changed once defined.\n",
        " -Examples of Mutable Data Types:\n",
        "  1.Lists: A lists can be altered by adding,removing,or changing elements directly.\n",
        "  2.Dictionaries: You can add,update,or delete key-value pairs within a dictionary.\n",
        "\n",
        " -Examples of Ummutable of Data Types:\n",
        "  1.Strings: A strings cannot be directly modified any opertaion that appears to change it creates a new string object.\n",
        "  2.Tuples: Tuples are fixed sequence of elements and cannot be changed after creation.\n",
        "\n",
        "#What are the main differences between lists and tuples in Python?\n",
        " -The main difference between lists and tuples in python is that\n",
        "  lists are mutable,meaning you can change their contents after creation,while tuples are immutable,meaning once created,their elements cannot be modified essentially,lists are designed for data that needs to be updated,while tuples are used to store fixed data that should not change.\n",
        "\n",
        "#Describe how dictionaries store data?\n",
        " -Dictionaries are used to store data values in key:value pairs.A dictionary is a collection which is ordered,changeable and do not allow duplicates.keys are unique.Values in a dictionary  can be of any data type and can be duplicated,whereas key can't be repeated and must be immutable.\n",
        "\n",
        "#Why might you use a set instead of a list in Python?\n",
        " -Because sets cannot have multiple occurrences of the same element,it makes sets highly useful to efficiently remove duplicate values from a list or tuple and to perform common math operation like unions and intersections.\n",
        "\n",
        "#What is a string in Python, and how is it different from a list?\n",
        " -In python,a string is a sequence of characters enclosed in quotes,while a list is a sequence of values enclosed in square brackets.The main difference between the two is that strings are immutable,meaning they cannot be changed after creation,while lists are mutable and can be changed.\n",
        "\n",
        "#How do tuples ensure data integrity in Python?\n",
        " -Tuples are immutable to ensure that their contents remain constant throughout their lifecycle,guaranteeing data integrity and reliability. This immutability allows tuples to be used as keys in dictionaries and elements in sets,as they can be hashed.\n",
        "\n",
        "#What is a hash table, and how does it relate to dictionaries in Python?\n",
        " -A hash table is a data structure that implements an associative array,mapping keys to values.It works by transforming the key into an index using a hash function,which determines the location in the table stored.\n",
        " -Python dictionaries are implemented using hash tables.This means that when you create a dictionary in python,the keys are hashed and stored in a hash table,allowing for efficient retrieval of values based on their keys.\n",
        "\n",
        "#Can lists contain different data types in Python?\n",
        " -Yes,lists can contain elements of different data types,including other lists,dictionaries,and more.\n",
        "\n",
        "#Explain why strings are immutable in Python?\n",
        " -In python, strings are made \"immutable\" so that programmers cannot alter the contents of the object(even by mistake).This avoids unnecessary bugs.Some other immutable objects are integer,float,tuple,and bool.More on mutable and immutable objects in python.\n",
        "\n",
        "#What advantages do dictionaries offer over lists for certain tasks?\n",
        " -Dictionaries offer fast access to values based on their keys,making them ideal for tasks where you need to frequently look up values based on unique identifier.\n",
        "\n",
        "#Describe a scenario where using a tuple would be preferable over a list?\n",
        " -A tuple is preferable when you want to represent a fixed collection of items that should not be changed,such as coordinates or database records.\n",
        "\n",
        "#How do sets handle duplicate values in Python?\n",
        " -Sets automatically remove duplicate values,ensuring that each element in a set is unique.\n",
        "\n",
        "#How does the “in” keyword work differently for lists and dictionaries?\n",
        " -For lists,the \"in\" keyword checks if a value is present in the list.\n",
        "\n",
        "#Can you modify the elements of a tuple? Explain why or why not.\n",
        " -No,you cannot modify the elements of a tuple because they immutable.Tuples cannot be changed.The syntax that indicates you have and not a list is that the tuple's elements are placed within parentheses,not brackets.\n",
        "\n",
        "#What is a nested dictionary, and give an example of its use case?\n",
        " -A nested dictionary is a dictionaries that are stored as values within another dictionary.It's a way to store data in multiple layers of organization.\n",
        " -Example use cases:\n",
        " 1.Employee records:Use a nested dictionary to organize employees by department names,and the values could be dictionaries of employees in that department.\n",
        " 2.Iventory systems:Use a nested dictiory to track product catrgories,subcategories,and individal product details.\n",
        " 3.JSON data:Use a nested dictionary to work with APls and web services.\n",
        "\n",
        "#Describe the time complexity of accessing elements in a dictionary?\n",
        " -Accessing elements in a dictionary has an average time complexity of O(1),which is very efficent,meaning it takes constant time on average,as dictionaries internally use hash tables which allow for quick lookups based on the key value;however,in worst-case scenarios with significant hash collisions,the time complexity could reach O(n)where n is the number of elements in the dictionary.\n",
        "\n",
        "#In what situations are lists preferred over dictionaries?\n",
        " -Lists are preferred when you need to maintain the order of elements or when you need to access elements by their index.\n",
        "\n",
        "#Why are dictionaries considered unordered, and how does that affect data retrieval?\n",
        " -Dictionaries are unordered because they do not guarantee the order in which key-value pairs are stored meaning,when you iterate through a dictionary,thr order in which the items appear is not guaranteed, and primarily focused on fast access using keys rather than accessing elements based on their postion in a sequence;this means you can't retrieve data based on a index,but instead need to use the specific key to access the associated value quickly.\n",
        "\n",
        "#Explain the difference between a list and a dictionary in terms of data retrieval.\n",
        " -Lists allow you to access elements by their index(postion),while dictionaries allow you to access elements by their key.\n",
        "\n"
      ],
      "metadata": {
        "id": "zPgmuW3F__Wm"
      }
    },
    {
      "cell_type": "code",
      "source": [
        "#Write a code to create a string with your name and print it?\n",
        "name = \"Manu\"\n",
        "print(name)"
      ],
      "metadata": {
        "colab": {
          "base_uri": "https://localhost:8080/"
        },
        "id": "A9ci2ASIfYgP",
        "outputId": "839f9a3b-903f-48d0-876f-c065217d304f"
      },
      "execution_count": null,
      "outputs": [
        {
          "output_type": "stream",
          "name": "stdout",
          "text": [
            "Manu\n"
          ]
        }
      ]
    },
    {
      "cell_type": "code",
      "source": [
        "#Write a code to find the length of the string \"Hello World\"?\n",
        "string = \"Hello World\"\n",
        "print(len(string))"
      ],
      "metadata": {
        "colab": {
          "base_uri": "https://localhost:8080/"
        },
        "id": "_vPHteotfWqk",
        "outputId": "d56c9005-7095-4d66-860f-fe681658f89b"
      },
      "execution_count": null,
      "outputs": [
        {
          "output_type": "stream",
          "name": "stdout",
          "text": [
            "11\n"
          ]
        }
      ]
    },
    {
      "cell_type": "code",
      "source": [
        "#Write a code to slice the first 3 characters from the string \"Python Programming\"?\n",
        "string = \"Python Programing\"\n",
        "print(string[:3])"
      ],
      "metadata": {
        "colab": {
          "base_uri": "https://localhost:8080/"
        },
        "id": "dLCQDQr5f-iZ",
        "outputId": "f098b2be-20db-4016-8afb-9afe5aae2d35"
      },
      "execution_count": null,
      "outputs": [
        {
          "output_type": "stream",
          "name": "stdout",
          "text": [
            "Pyt\n"
          ]
        }
      ]
    },
    {
      "cell_type": "code",
      "source": [
        "#Write a code to convert the string \"hello\" to uppercase?\n",
        "string = \"hello\"\n",
        "print(string.upper())\n"
      ],
      "metadata": {
        "colab": {
          "base_uri": "https://localhost:8080/"
        },
        "id": "VfVua0Qsf-p8",
        "outputId": "e1f08598-c706-4b98-8e8f-9040c4f9fb22"
      },
      "execution_count": null,
      "outputs": [
        {
          "output_type": "stream",
          "name": "stdout",
          "text": [
            "HELLO\n"
          ]
        }
      ]
    },
    {
      "cell_type": "code",
      "source": [
        "#Write a code to replace the word \"apple\" with \"orange\" in the string \"I like apple\"?\n",
        "string = \"I like apples\"\n",
        "print(string.replace(\"apples\",\"orange\"))"
      ],
      "metadata": {
        "colab": {
          "base_uri": "https://localhost:8080/"
        },
        "id": "pbkGIm6ygnOj",
        "outputId": "b47042bc-e6fc-42d4-bc4a-c9e4ad39dbdc"
      },
      "execution_count": null,
      "outputs": [
        {
          "output_type": "stream",
          "name": "stdout",
          "text": [
            "I like orange\n"
          ]
        }
      ]
    },
    {
      "cell_type": "code",
      "source": [
        "#Write a code to create a list with numbers 1 to 5 and print it?\n",
        "list = [1, 2, 3, 4, 5]\n",
        "print(list)\n"
      ],
      "metadata": {
        "colab": {
          "base_uri": "https://localhost:8080/"
        },
        "id": "NneszAbugnX0",
        "outputId": "3a81bc50-312a-4b68-b52e-e778bc753d5a"
      },
      "execution_count": null,
      "outputs": [
        {
          "output_type": "stream",
          "name": "stdout",
          "text": [
            "[1, 2, 3, 4, 5]\n"
          ]
        }
      ]
    },
    {
      "cell_type": "code",
      "source": [
        "#Write a code to append the number 10 to the list [1, 2, 3, 4]?\n",
        "list = [1, 2, 3, 4]\n",
        "list.append(10)\n",
        "print(list)"
      ],
      "metadata": {
        "colab": {
          "base_uri": "https://localhost:8080/"
        },
        "id": "JoAiVGcPheWR",
        "outputId": "140969ae-0ebd-4c3d-db8e-4d5de4d60fbf"
      },
      "execution_count": null,
      "outputs": [
        {
          "output_type": "stream",
          "name": "stdout",
          "text": [
            "[1, 2, 3, 4, 10]\n"
          ]
        }
      ]
    },
    {
      "cell_type": "code",
      "source": [
        "#Write a code to remove the number 3 from the list [1, 2, 3, 4, 5]?\n",
        "list = [1, 2, 3, 4, 5]\n",
        "list.remove(3)\n",
        "print(list)"
      ],
      "metadata": {
        "colab": {
          "base_uri": "https://localhost:8080/"
        },
        "id": "AYFHxMurhegv",
        "outputId": "c5ccf041-3640-4380-8323-6da63773eae5"
      },
      "execution_count": null,
      "outputs": [
        {
          "output_type": "stream",
          "name": "stdout",
          "text": [
            "[1, 2, 4, 5]\n"
          ]
        }
      ]
    },
    {
      "cell_type": "code",
      "source": [
        "#Write a code to access the second element in the list ['a', 'b', 'c', 'd']?\n",
        "list = ['a','b','c','d']\n",
        "print(list[1])"
      ],
      "metadata": {
        "colab": {
          "base_uri": "https://localhost:8080/"
        },
        "id": "3bdEGSjziDWV",
        "outputId": "2eb5a31b-a2c1-4f35-accc-928475540438"
      },
      "execution_count": null,
      "outputs": [
        {
          "output_type": "stream",
          "name": "stdout",
          "text": [
            "b\n"
          ]
        }
      ]
    },
    {
      "cell_type": "code",
      "source": [
        "#Write a code to reverse the list [10, 20, 30, 40, 50]?\n",
        "list = [10, 20, 30, 40, 50]\n",
        "list.reverse()\n",
        "print(list)"
      ],
      "metadata": {
        "colab": {
          "base_uri": "https://localhost:8080/"
        },
        "id": "-xzciMWEiDhv",
        "outputId": "4db672cb-49cb-44a1-bfe6-ed2f37d8049f"
      },
      "execution_count": null,
      "outputs": [
        {
          "output_type": "stream",
          "name": "stdout",
          "text": [
            "[50, 40, 30, 20, 10]\n"
          ]
        }
      ]
    },
    {
      "cell_type": "code",
      "source": [
        "#Write a code to create a tuple with the elements 100, 200, 300 and print it.\n",
        "tuple = (100, 200, 300)\n",
        "print(tuple)"
      ],
      "metadata": {
        "colab": {
          "base_uri": "https://localhost:8080/"
        },
        "id": "lGS993Ali-Re",
        "outputId": "d933fc3d-6683-4d27-bcb3-46b839187cea"
      },
      "execution_count": null,
      "outputs": [
        {
          "output_type": "stream",
          "name": "stdout",
          "text": [
            "(100, 200, 300)\n"
          ]
        }
      ]
    },
    {
      "cell_type": "code",
      "source": [
        "#Write a code to access the second-to-last element of the tuple ('red', 'green', 'blue', 'yellow').\n",
        "tuple = ('red','green','blue','yellow')\n",
        "print(tuple[-2])"
      ],
      "metadata": {
        "colab": {
          "base_uri": "https://localhost:8080/"
        },
        "id": "s_GCay6Li-Yg",
        "outputId": "53164c73-d2c5-4800-b6b9-ad47ae44f8a5"
      },
      "execution_count": null,
      "outputs": [
        {
          "output_type": "stream",
          "name": "stdout",
          "text": [
            "blue\n"
          ]
        }
      ]
    },
    {
      "cell_type": "code",
      "source": [
        "#Write a code to find the minimum number in the tuple (10, 20, 5, 15)?\n",
        "tuple = (10, 20 ,5 ,15)\n",
        "print(min(tuple))"
      ],
      "metadata": {
        "colab": {
          "base_uri": "https://localhost:8080/"
        },
        "id": "nZgWm1ZOi-fF",
        "outputId": "a488a57b-1501-4b8c-95eb-d30fa1c8f3d5"
      },
      "execution_count": null,
      "outputs": [
        {
          "output_type": "stream",
          "name": "stdout",
          "text": [
            "5\n"
          ]
        }
      ]
    },
    {
      "cell_type": "code",
      "source": [
        "#Write a code to find the index of the element \"cat\" in the tuple ('dog', 'cat', 'rabbit').\n",
        "tuple = ('dog','cat','rabbit')\n",
        "print(tuple.index('cat'))"
      ],
      "metadata": {
        "colab": {
          "base_uri": "https://localhost:8080/"
        },
        "id": "HnGmh7pXoULH",
        "outputId": "7292f20c-a7b9-4bcb-81d7-9901753141bc"
      },
      "execution_count": null,
      "outputs": [
        {
          "output_type": "stream",
          "name": "stdout",
          "text": [
            "1\n"
          ]
        }
      ]
    },
    {
      "cell_type": "code",
      "source": [
        "#Write a code to create a tuple containing three different fruits and check if \"kiwi\" is in it.\n",
        "tuple = ('apple','banana','orange')\n",
        "print('kiwi'in tuple)"
      ],
      "metadata": {
        "colab": {
          "base_uri": "https://localhost:8080/"
        },
        "id": "pDktMyMFoURH",
        "outputId": "742118ab-22b4-42d6-fa25-9ed4e2d0ea44"
      },
      "execution_count": null,
      "outputs": [
        {
          "output_type": "stream",
          "name": "stdout",
          "text": [
            "False\n"
          ]
        }
      ]
    },
    {
      "cell_type": "code",
      "source": [
        "#Write a code to create a set with the elements 'a', 'b', 'c' and print it.\n",
        "set = {'a','b','c'}\n",
        "print(set)"
      ],
      "metadata": {
        "colab": {
          "base_uri": "https://localhost:8080/"
        },
        "id": "jnW5aTNioUWn",
        "outputId": "d9d8a9d1-7ad5-43ca-f4ef-65a9d1a7a078"
      },
      "execution_count": null,
      "outputs": [
        {
          "output_type": "stream",
          "name": "stdout",
          "text": [
            "{'b', 'a', 'c'}\n"
          ]
        }
      ]
    },
    {
      "cell_type": "code",
      "source": [
        "#Write a code to clear all elements from the set {1, 2, 3, 4, 5}.\n",
        "set = {1, 2, 3, 4, 5}\n",
        "set.clear()\n",
        "print(set)"
      ],
      "metadata": {
        "colab": {
          "base_uri": "https://localhost:8080/"
        },
        "id": "sEgwxRdpp7kO",
        "outputId": "49594d2c-4b89-4156-990a-8862155dcb61"
      },
      "execution_count": null,
      "outputs": [
        {
          "output_type": "stream",
          "name": "stdout",
          "text": [
            "set()\n"
          ]
        }
      ]
    },
    {
      "cell_type": "code",
      "source": [
        "#Write a code to remove the element 4 from the set {1, 2, 3, 4}.\n",
        "set = {1, 2, 3, 4}\n",
        "set.remove(4)\n",
        "print(set)\n"
      ],
      "metadata": {
        "colab": {
          "base_uri": "https://localhost:8080/"
        },
        "id": "hwISrC9LqBZ-",
        "outputId": "e49f593b-6308-4bb0-e82b-b586289a87d3"
      },
      "execution_count": null,
      "outputs": [
        {
          "output_type": "stream",
          "name": "stdout",
          "text": [
            "{1, 2, 3}\n"
          ]
        }
      ]
    },
    {
      "cell_type": "code",
      "source": [
        "#Write a code to find the union of two sets {1, 2, 3} and {3, 4, 5}.\n",
        "set1 = {1, 2, 3}\n",
        "set2 = {3, 4, 5}\n",
        "print(set1.union(set2))"
      ],
      "metadata": {
        "colab": {
          "base_uri": "https://localhost:8080/"
        },
        "id": "wEzr4UncqdwW",
        "outputId": "c59000c0-ed37-412d-85e2-38363121ac92"
      },
      "execution_count": null,
      "outputs": [
        {
          "output_type": "stream",
          "name": "stdout",
          "text": [
            "{1, 2, 3, 4, 5}\n"
          ]
        }
      ]
    },
    {
      "cell_type": "code",
      "source": [
        "#Write a code to find the intersection of two sets {1, 2, 3} and {2, 3, 4}\n",
        "set1 = {1, 2, 3}\n",
        "set2 = {2, 3, 4}\n",
        "print(set1.intersection(set2))"
      ],
      "metadata": {
        "colab": {
          "base_uri": "https://localhost:8080/"
        },
        "id": "GTlUzXNqp7tW",
        "outputId": "0b26c0d7-a982-49e9-b1a3-eed65a069515"
      },
      "execution_count": null,
      "outputs": [
        {
          "output_type": "stream",
          "name": "stdout",
          "text": [
            "{2, 3}\n"
          ]
        }
      ]
    },
    {
      "cell_type": "code",
      "source": [
        "#Write a code to create a dictionary with the keys \"name\", \"age\", and \"city\", and print it.\n",
        "dic = {\"name\":\"Manu\",\"age\":21,\"city\":\"Ashoknagar\"}\n",
        "print(dic)"
      ],
      "metadata": {
        "colab": {
          "base_uri": "https://localhost:8080/"
        },
        "id": "IVNCGCvorje_",
        "outputId": "1d7a08ab-e8fd-43af-a923-174520b865e7"
      },
      "execution_count": null,
      "outputs": [
        {
          "output_type": "stream",
          "name": "stdout",
          "text": [
            "{'name': 'Manu', 'age': 21, 'city': 'Ashoknagar'}\n"
          ]
        }
      ]
    },
    {
      "cell_type": "code",
      "source": [
        "#Write a code to add a new key-value pair \"country\": \"USA\" to the dictionary {'name': 'John', 'age': 25}.\n",
        "dic = {'name':'john','age':25}\n",
        "dic[\"country\"] = \"USA\"\n",
        "print(dic)"
      ],
      "metadata": {
        "id": "IgGUPzpKrjk3",
        "colab": {
          "base_uri": "https://localhost:8080/"
        },
        "outputId": "de509341-8967-4764-ead7-5af35dcaa2ab"
      },
      "execution_count": 1,
      "outputs": [
        {
          "output_type": "stream",
          "name": "stdout",
          "text": [
            "{'name': 'john', 'age': 25, 'country': 'USA'}\n"
          ]
        }
      ]
    },
    {
      "cell_type": "code",
      "source": [
        "#Write a code to access the value associated with the key \"name\" in the dictionary {'name': 'Alice', 'age': 30}.\n",
        "dic = {'name':'Alice','age':30}\n",
        "print(dic)"
      ],
      "metadata": {
        "colab": {
          "base_uri": "https://localhost:8080/"
        },
        "id": "80jnqSqePcFy",
        "outputId": "0b61ae60-dfff-41c9-8af5-96fab047525a"
      },
      "execution_count": 2,
      "outputs": [
        {
          "output_type": "stream",
          "name": "stdout",
          "text": [
            "{'name': 'Alice', 'age': 30}\n"
          ]
        }
      ]
    },
    {
      "cell_type": "code",
      "source": [
        "#Write a code to remove the key \"age\" from the dictionary {'name': 'Bob', 'age': 22, 'city': 'New York'}.\n",
        "dic = {'name':'bob','age': 22, 'city': 'New York'}\n",
        "del dic['age']\n",
        "print(dic)"
      ],
      "metadata": {
        "colab": {
          "base_uri": "https://localhost:8080/"
        },
        "id": "pKRPj-Q3PcOY",
        "outputId": "ec740f38-7260-4ed1-d16c-451c6d9de889"
      },
      "execution_count": 3,
      "outputs": [
        {
          "output_type": "stream",
          "name": "stdout",
          "text": [
            "{'name': 'bob', 'city': 'New York'}\n"
          ]
        }
      ]
    },
    {
      "cell_type": "code",
      "source": [
        "#Write a code to check if the key \"city\" exists in the dictionary {'name': 'Alice', 'city': 'Paris'}.\n",
        "dic = {'name': 'Alice','city':'Paris'}\n",
        "print(\"city\"in dic)"
      ],
      "metadata": {
        "colab": {
          "base_uri": "https://localhost:8080/"
        },
        "id": "7C-GsehkSZmt",
        "outputId": "106367a2-d4a6-4ae4-b16c-0f654823cd0f"
      },
      "execution_count": 4,
      "outputs": [
        {
          "output_type": "stream",
          "name": "stdout",
          "text": [
            "True\n"
          ]
        }
      ]
    },
    {
      "cell_type": "code",
      "source": [
        "#Write a code to create a list, a tuple, and a dictionary, and print them all.\n",
        "list = [1, 2, 3]\n",
        "tuple = (4, 5, 6)\n",
        "dic = {'name':'Manu','age':21}\n",
        "print(list)\n",
        "print(tuple)\n",
        "print(dic)"
      ],
      "metadata": {
        "colab": {
          "base_uri": "https://localhost:8080/"
        },
        "id": "L1A-wwbrSZqI",
        "outputId": "10d4b474-0729-436a-8d2a-470e0862c048"
      },
      "execution_count": 5,
      "outputs": [
        {
          "output_type": "stream",
          "name": "stdout",
          "text": [
            "[1, 2, 3]\n",
            "(4, 5, 6)\n",
            "{'name': 'Manu', 'age': 21}\n"
          ]
        }
      ]
    },
    {
      "cell_type": "code",
      "source": [
        "#Write a code to create a list of 5 random numbers between 1 and 100, sort it in ascending order, and print the result.(replaced)\n",
        "import random\n",
        "random_list = [random.randint(1,100),5]\n",
        "random_list.sort()\n",
        "print(random_list)"
      ],
      "metadata": {
        "colab": {
          "base_uri": "https://localhost:8080/"
        },
        "id": "4ciqDlKETmc3",
        "outputId": "0482912b-1ed7-4a2e-a30b-1c5fb68f9b4a"
      },
      "execution_count": 6,
      "outputs": [
        {
          "output_type": "stream",
          "name": "stdout",
          "text": [
            "[5, 32]\n"
          ]
        }
      ]
    },
    {
      "cell_type": "code",
      "source": [
        "#Write a code to create a list with strings and print the element at the third index.\n",
        "list = [\"apple\",\"banana\",\"orange\",\"cherry\"]\n",
        "print(list[2])"
      ],
      "metadata": {
        "colab": {
          "base_uri": "https://localhost:8080/"
        },
        "id": "ObZSZIexUZcC",
        "outputId": "5822c3b1-9bc5-4b76-9f71-970d8f27bed0"
      },
      "execution_count": 7,
      "outputs": [
        {
          "output_type": "stream",
          "name": "stdout",
          "text": [
            "orange\n"
          ]
        }
      ]
    },
    {
      "cell_type": "code",
      "source": [
        "#Write a code to combine two dictionaries into one and print the result.\n",
        "dict1 = {'a':1,'b':2}\n",
        "dict2 = {'c':3,'d':4}\n",
        "dict1.update(dict2)\n",
        "print(dict1)"
      ],
      "metadata": {
        "colab": {
          "base_uri": "https://localhost:8080/"
        },
        "id": "MFczbSrwUZj6",
        "outputId": "3af308d7-d79f-4d55-e15b-95cf07b94d58"
      },
      "execution_count": 10,
      "outputs": [
        {
          "output_type": "stream",
          "name": "stdout",
          "text": [
            "{'a': 1, 'b': 2, 'c': 3, 'd': 4}\n"
          ]
        }
      ]
    },
    {
      "cell_type": "code",
      "source": [
        "#Write a code to convert a list of strings into a set.\n",
        "list = ['apple','banana','cherry']\n",
        "set = set(list)\n",
        "print(set)"
      ],
      "metadata": {
        "colab": {
          "base_uri": "https://localhost:8080/"
        },
        "id": "moOfebgBWB5-",
        "outputId": "265306d4-00e8-49d4-8a0d-63a793c5a982"
      },
      "execution_count": 11,
      "outputs": [
        {
          "output_type": "stream",
          "name": "stdout",
          "text": [
            "{'banana', 'cherry', 'apple'}\n"
          ]
        }
      ]
    }
  ]
}