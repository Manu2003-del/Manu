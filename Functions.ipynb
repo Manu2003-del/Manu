{
  "nbformat": 4,
  "nbformat_minor": 0,
  "metadata": {
    "colab": {
      "provenance": [],
      "authorship_tag": "ABX9TyM09ywDNkHmMSbs9wd0K9T9",
      "include_colab_link": true
    },
    "kernelspec": {
      "name": "python3",
      "display_name": "Python 3"
    },
    "language_info": {
      "name": "python"
    }
  },
  "cells": [
    {
      "cell_type": "markdown",
      "metadata": {
        "id": "view-in-github",
        "colab_type": "text"
      },
      "source": [
        "<a href=\"https://colab.research.google.com/github/Manu2003-del/Manu/blob/main/Functions.ipynb\" target=\"_parent\"><img src=\"https://colab.research.google.com/assets/colab-badge.svg\" alt=\"Open In Colab\"/></a>"
      ]
    },
    {
      "cell_type": "markdown",
      "source": [
        "#What is the difference between a function and a method in Python?\n",
        " -The primary difference a function and a method in python lies in their association with objects:\n",
        " -A function is a block of code that performs a specific task and is called independently of any class.It is called directly by its name.\n",
        " -A method is a function associated with an object (instance of a class) and is called using the object's name.\n",
        " -Example:\n",
        "\n"
      ],
      "metadata": {
        "id": "pSdZ1JyaPltr"
      }
    },
    {
      "cell_type": "code",
      "source": [
        "#Function\n",
        "def add(x,y):\n",
        "    return x+y\n",
        "\n",
        "result = add(5, 3)\n",
        "print(result)"
      ],
      "metadata": {
        "colab": {
          "base_uri": "https://localhost:8080/"
        },
        "id": "xiwB1xcKR-Ez",
        "outputId": "dd46c86c-fa04-40d6-8305-ceb89911fa7c"
      },
      "execution_count": null,
      "outputs": [
        {
          "output_type": "stream",
          "name": "stdout",
          "text": [
            "8\n"
          ]
        }
      ]
    },
    {
      "cell_type": "code",
      "source": [
        "from os import pipe\n",
        "#Class with a method\n",
        "class Calculator:\n",
        "    def __init__(self,num):\n",
        "        self.num = num\n",
        "\n",
        "    def multiply(self,x):\n",
        "        return self.num * x\n",
        "\n",
        "calc = Calculator(10)\n",
        "result = calc.multiply(5)\n",
        "print(result)"
      ],
      "metadata": {
        "colab": {
          "base_uri": "https://localhost:8080/"
        },
        "id": "Kc9UMOO5SjCa",
        "outputId": "71f9f2a9-9e97-431d-ce6b-fe398e8b8d61"
      },
      "execution_count": null,
      "outputs": [
        {
          "output_type": "stream",
          "name": "stdout",
          "text": [
            "50\n"
          ]
        }
      ]
    },
    {
      "cell_type": "markdown",
      "source": [
        "#Explain the concept of function arguments and parameters in Python?\n",
        " -In Python,function arguments and parameters are fundamental concepts for passing data to functions.\n",
        " -These are the variable names listed inside the parentheses in the function definition.They act as placeholders for the values that the function expects to receive.\n",
        " -These are the actual values that are passed to the function when it is called.They provide the real data that the function will work with.\n",
        " -Example:"
      ],
      "metadata": {
        "id": "rT5a5O7sXfBW"
      }
    },
    {
      "cell_type": "code",
      "source": [
        "def add_numbers(a, b): # a and b are paramenters\n",
        "    return a + b\n",
        "\n",
        "result = add_numbers(5, 3) # 5 and 3 are arguments\n",
        "print(result)"
      ],
      "metadata": {
        "colab": {
          "base_uri": "https://localhost:8080/"
        },
        "id": "tKAiWEMybeA1",
        "outputId": "a9a33b5e-4b94-4314-abc2-c589b380b52c"
      },
      "execution_count": null,
      "outputs": [
        {
          "output_type": "stream",
          "name": "stdout",
          "text": [
            "8\n"
          ]
        }
      ]
    },
    {
      "cell_type": "markdown",
      "source": [
        "# What are the different ways to define and call a function in Python?\n",
        "  -In Pyhton,functions can defined and called in several ways:\n",
        "  1. Standard Function\n",
        "    -Uses the def keyword followed by the function name,parentheses for parameters,and a colon.\n",
        "    -The function body is indented.\n",
        "    -Example:\n"
      ],
      "metadata": {
        "id": "NiLa71zBcPG3"
      }
    },
    {
      "cell_type": "code",
      "source": [
        "def greet(ajay):\n",
        "    return \"Hello, \" + ajay + \"!\"\n",
        "\n",
        "#Calling the function\n",
        "message = greet(\"ajay\")\n",
        "print(message)"
      ],
      "metadata": {
        "colab": {
          "base_uri": "https://localhost:8080/"
        },
        "id": "catTz5HodcrJ",
        "outputId": "806f2e07-51d9-455d-c3e1-f5bfbcb1e183"
      },
      "execution_count": null,
      "outputs": [
        {
          "output_type": "stream",
          "name": "stdout",
          "text": [
            "Hello, ajay!\n"
          ]
        }
      ]
    },
    {
      "cell_type": "markdown",
      "source": [
        "2.Lambda Functions:\n",
        " -This is an anonymous function defined using the lambda keyword.It's typically used for short ,simple operations.\n",
        " -Example:\n"
      ],
      "metadata": {
        "id": "0gaLN2vGeJz0"
      }
    },
    {
      "cell_type": "code",
      "source": [
        "add = lambda x, y: x + y\n",
        "result = add(4, 3)\n",
        "print(result)"
      ],
      "metadata": {
        "colab": {
          "base_uri": "https://localhost:8080/"
        },
        "id": "xiPUBucuk672",
        "outputId": "03ff5a90-6600-4dfa-a818-ebe9b11c25f7"
      },
      "execution_count": null,
      "outputs": [
        {
          "output_type": "stream",
          "name": "stdout",
          "text": [
            "7\n"
          ]
        }
      ]
    },
    {
      "cell_type": "markdown",
      "source": [
        "3.Nested Function: A Function defined inside another function.\n",
        " -Example:\n"
      ],
      "metadata": {
        "id": "w-ff578BlK4Y"
      }
    },
    {
      "cell_type": "code",
      "source": [
        "def outer_function(x):\n",
        "    def inner_function(y):\n",
        "        return x + y\n",
        "    return inner_function\n",
        "\n",
        "add_five = outer_function(5)\n",
        "result = add_five(4)\n",
        "print(result)"
      ],
      "metadata": {
        "colab": {
          "base_uri": "https://localhost:8080/"
        },
        "id": "tmvg0MwAwbfU",
        "outputId": "71106f34-fa2d-4e68-e881-66afd190a30d"
      },
      "execution_count": null,
      "outputs": [
        {
          "output_type": "stream",
          "name": "stdout",
          "text": [
            "9\n"
          ]
        }
      ]
    },
    {
      "cell_type": "markdown",
      "source": [
        "4.Recursive Function:A Function that calls itself.\n",
        "  -Example:\n",
        "  "
      ],
      "metadata": {
        "id": "x33_DsLOxb-Q"
      }
    },
    {
      "cell_type": "code",
      "source": [
        "def factorial(n):\n",
        "    if n == 0:\n",
        "        return 1\n",
        "    else:\n",
        "       return n * factorial(n-1)\n",
        "\n",
        "factorial(5)"
      ],
      "metadata": {
        "colab": {
          "base_uri": "https://localhost:8080/"
        },
        "id": "mcL1jRzzx0Al",
        "outputId": "b862916c-1c8b-46e3-8a37-62fa0edb9519"
      },
      "execution_count": null,
      "outputs": [
        {
          "output_type": "execute_result",
          "data": {
            "text/plain": [
              "120"
            ]
          },
          "metadata": {},
          "execution_count": 29
        }
      ]
    },
    {
      "cell_type": "markdown",
      "source": [
        "5.Function with Default Aruguments:\n",
        " -Example:\n"
      ],
      "metadata": {
        "id": "3bozcOiYyymT"
      }
    },
    {
      "cell_type": "code",
      "source": [
        "def greet(name=\"Guest\"):\n",
        "    return \"hello, \" + name\n",
        "\n",
        "greet() # Returns \"Hello, Guest\""
      ],
      "metadata": {
        "colab": {
          "base_uri": "https://localhost:8080/",
          "height": 36
        },
        "id": "R70C6Hs4zBW_",
        "outputId": "9ff97db7-2fd8-4dfc-cb0b-28fa5718087c"
      },
      "execution_count": null,
      "outputs": [
        {
          "output_type": "execute_result",
          "data": {
            "text/plain": [
              "'hello, Guest'"
            ],
            "application/vnd.google.colaboratory.intrinsic+json": {
              "type": "string"
            }
          },
          "metadata": {},
          "execution_count": 32
        }
      ]
    },
    {
      "cell_type": "markdown",
      "source": [
        "6.Function with Variable Number of Arguments:\n",
        "  -Example:\n",
        "  "
      ],
      "metadata": {
        "id": "wLqi6nagz4We"
      }
    },
    {
      "cell_type": "code",
      "source": [
        "def sum_all(*args):\n",
        "    total = 0\n",
        "    for num in args:\n",
        "        total += num\n",
        "    return total\n",
        "\n",
        "sum_all(1, 2, 3, 4)"
      ],
      "metadata": {
        "colab": {
          "base_uri": "https://localhost:8080/"
        },
        "id": "NMxTzZoF0Kf4",
        "outputId": "94d483a4-1abb-4a26-de51-78104f515ff5"
      },
      "execution_count": null,
      "outputs": [
        {
          "output_type": "execute_result",
          "data": {
            "text/plain": [
              "10"
            ]
          },
          "metadata": {},
          "execution_count": 35
        }
      ]
    },
    {
      "cell_type": "markdown",
      "source": [
        "#What is the purpose of the `return` statement in a Python function?\n",
        " -The return statement in a python function serves to end the execution of the function and send a value back to the caller. If a return statement is omitted, the function will return None by default.\n",
        " -Example:\n"
      ],
      "metadata": {
        "id": "NaqbM6Rk1BbY"
      }
    },
    {
      "cell_type": "code",
      "source": [
        "def add_numbers(x, y):\n",
        "    sum = x + y\n",
        "    return sum\n",
        "\n",
        "result = add_numbers(5, 3)\n",
        "print(result)"
      ],
      "metadata": {
        "colab": {
          "base_uri": "https://localhost:8080/"
        },
        "id": "ZeuXbDZj3vDL",
        "outputId": "c8e4b86d-ad72-4a3d-c5d9-ed05ebacec02"
      },
      "execution_count": null,
      "outputs": [
        {
          "output_type": "stream",
          "name": "stdout",
          "text": [
            "8\n"
          ]
        }
      ]
    },
    {
      "cell_type": "markdown",
      "source": [
        "#What are iterators in Python and how do they differ from iterables?\n",
        "-Iterators in Python are objects that allow sequential access to elements of a collection,one at a time,using the next() method.Iterables,on the other hand,are objects that can return an iterator, such as lists,tuples,and strings.The key difference lies in their functionality:iterators are stateful and remember their position in the sequence,while iterables are not.\n",
        "-Example:\n"
      ],
      "metadata": {
        "id": "oPxVFC6v4WEX"
      }
    },
    {
      "cell_type": "code",
      "source": [
        "# Iterable\n",
        "my_list = [1, 2, 3]\n",
        "my_iter = iter(my_list)\n",
        "\n",
        "#Iterator\n",
        "print(next(my_iter))\n",
        "print(next(my_iter))\n",
        "print(next(my_iter))\n",
        "\n",
        "# Trying to get the next element after the end will raise stopIteration error\n",
        "# print(next(my_iter))"
      ],
      "metadata": {
        "colab": {
          "base_uri": "https://localhost:8080/"
        },
        "id": "_nqEyPh-1MS_",
        "outputId": "5a59bb25-b9fa-4e9f-9e29-4757fee9b889"
      },
      "execution_count": null,
      "outputs": [
        {
          "output_type": "stream",
          "name": "stdout",
          "text": [
            "1\n",
            "2\n",
            "3\n"
          ]
        }
      ]
    },
    {
      "cell_type": "markdown",
      "source": [
        "# Explain the concept of generators in Python and how they are defined?\n",
        " -Generators in python are a way to create iterators.Instead of returing a value and terminating,like in a normal function,a generator function uses the yield keyword to produce a series of values over time.\n",
        " -Generators are defined like regular functions but use the yield keyword instead of return.When a generator function is called,it doesn't execute the function body immediately.Instead,it return a generator object that can be iterated over.\n",
        " -Example:\n"
      ],
      "metadata": {
        "id": "eUTX2WxD2MK1"
      }
    },
    {
      "cell_type": "code",
      "source": [
        "def simple_genertor():\n",
        "    yield 1\n",
        "    yield 2\n",
        "    yield 3\n",
        "\n",
        "# Create a generator object\n",
        "my_genertor = simple_genertor()\n",
        "\n",
        "#Iterate over the generator\n",
        "for value in my_genertor:\n",
        "    print(value)"
      ],
      "metadata": {
        "colab": {
          "base_uri": "https://localhost:8080/"
        },
        "id": "rM88IPE74pKs",
        "outputId": "4a08c740-9000-43f1-9be3-e97d566ce2a6"
      },
      "execution_count": null,
      "outputs": [
        {
          "output_type": "stream",
          "name": "stdout",
          "text": [
            "1\n",
            "2\n",
            "3\n"
          ]
        }
      ]
    },
    {
      "cell_type": "markdown",
      "source": [
        "# What are the advantages of using generators over regular functions?\n",
        " -Generators in Python offer several advantages over regular functions,primarily related to memory efficiency and control flow:\n",
        " -Memory Efficiency:\n",
        " -Generators produce items one at a time and only when required,unlike regular functions that may generate and store all values in memory at once.This especially beneficial when working with large sequences or infinite streams of data.\n",
        " -Control flow:\n",
        "  -Generators can pause and resume execution,offering a more controlled way to handle data processing.This is useful for tasks like reading large files or handling real-time data streams.\n",
        "  -Example:\n",
        "  \n",
        "\n"
      ],
      "metadata": {
        "id": "d6c196gm5OvE"
      }
    },
    {
      "cell_type": "code",
      "source": [
        "def simple_generator():\n",
        "    yield 1\n",
        "    yield 2\n",
        "    yield 3\n",
        "\n",
        "# Using the generator\n",
        "for value in simple_generator():\n",
        "    print(value)"
      ],
      "metadata": {
        "colab": {
          "base_uri": "https://localhost:8080/"
        },
        "id": "sp6qktZoFMpA",
        "outputId": "2cd95dcd-8501-4b6f-fcd7-d7262fb97bfc"
      },
      "execution_count": null,
      "outputs": [
        {
          "output_type": "stream",
          "name": "stdout",
          "text": [
            "1\n",
            "2\n",
            "3\n"
          ]
        }
      ]
    },
    {
      "cell_type": "markdown",
      "source": [
        "# What is a lambda function in Python and when is it typically used?\n",
        "  -A lambda function in Python is a small,anonymous function defined using the lambda keyword.It can take any number of arguments but can only have one expression.Lambda functions are typically used when a simple function is needed for a short period and defining a full function using def is unnecessary.\n",
        "  \n",
        "  -Typical Uses of Lambda Function:\n",
        "\n",
        "  -As arguments to higher-order functions:\n",
        "   Functions like map(),filter(),and sorted()can take a function as a arguments.Lambda function are often used here for concise operations.\n",
        "\n",
        "  -Simple operations:\n",
        "   When a function is needed for a quick,one-time task,a lambda function provides a compact way to define it.\n",
        "\n",
        "   -Event handlers:\n",
        "   In GUI programming or asynchronous programming,lambda functions can be used as simple event handlers.\n",
        "\n",
        "   Example:\n"
      ],
      "metadata": {
        "id": "3B8yfZYsF0ed"
      }
    },
    {
      "cell_type": "code",
      "source": [
        "# Lambda Function to add two numbers\n",
        "add = lambda x, y: x + y\n",
        "print(add(5, 3))"
      ],
      "metadata": {
        "colab": {
          "base_uri": "https://localhost:8080/"
        },
        "id": "A_g5Knk5i8GD",
        "outputId": "18b1ae6d-4ca6-4754-90a3-24612dfac725"
      },
      "execution_count": null,
      "outputs": [
        {
          "output_type": "stream",
          "name": "stdout",
          "text": [
            "8\n"
          ]
        }
      ]
    },
    {
      "cell_type": "markdown",
      "source": [
        "#Explain the purpose and usage of the `map()` function in Python?\n",
        " -The map() function in python applies a given function to each item of an iterable (like a list or tuple) and returns an iterator that yields the results.\n",
        "\n",
        " Purpose:\n",
        " -The primary purpose of map() is to avoid explicit looping when you need to apply the same transformation to multiple items.It promotes cleaner and more readable code.\n",
        "\n",
        " Usage:\n",
        " -The basics syntax of the map() function is:\n",
        "  "
      ],
      "metadata": {
        "id": "V2lBQKDbjXZ5"
      }
    },
    {
      "cell_type": "code",
      "source": [
        "map(function, iterable, ...)"
      ],
      "metadata": {
        "id": "rhsTZZyf_mCS"
      },
      "execution_count": null,
      "outputs": []
    },
    {
      "cell_type": "markdown",
      "source": [
        "*function:The function to execute for each item in the iterable.\n",
        "*iterable:One or more iterable to apply the function to.\n",
        "Example:"
      ],
      "metadata": {
        "id": "rJXiT7h5_tye"
      }
    },
    {
      "cell_type": "code",
      "source": [
        "def square(n):\n",
        "    return n * n\n",
        "\n",
        "numbers = [1, 2, 3, 4 ,5]\n",
        "squared_numbers = map(square, numbers)\n",
        "print(list(squared_numbers))"
      ],
      "metadata": {
        "colab": {
          "base_uri": "https://localhost:8080/"
        },
        "id": "ilzv_CElL-QI",
        "outputId": "e8592102-e247-4f54-da25-db6fa39a36c2"
      },
      "execution_count": null,
      "outputs": [
        {
          "output_type": "stream",
          "name": "stdout",
          "text": [
            "[1, 4, 9, 16, 25]\n"
          ]
        }
      ]
    },
    {
      "cell_type": "markdown",
      "source": [
        "#What is the difference between `map()`, `reduce()`, and `filter()` functions in Python?\n",
        " -In Python,\"map()\" applies a function to every element in an iterable, creating a new iterable with the transformed elements;\"filter()\" selects elements from an iterable based on a condition,returning only those that meet the criteria; and \"reduce()\" combines all elements of an iterable into a single value by applying a function cumulatively to pairs of elements.\n",
        "\n",
        " The key differences between map(),reduce(),and filter()functions in Python, with examples, are outlined below:\n",
        "\n",
        " Functionality:\n",
        " *map():Applies a function to each element,producing a new iterable with the transformed values.\n",
        "\n",
        " *filter():Selects elements based on a condition,returning only those that pass the test.\n",
        "\n",
        " *reduce():Aggregates all elements into a single value using a cumulative function.\n",
        "\n",
        " Output:\n",
        "\n",
        " *map():Returns a new iterable with the transformed elements.\n",
        "\n",
        " *filter():Return new iterable containing only the filtered elements.\n",
        "\n",
        " *reduce():Returns a single value.\n",
        "\n",
        " Example:\n",
        "  "
      ],
      "metadata": {
        "id": "dz1WOJXKL-mt"
      }
    },
    {
      "cell_type": "code",
      "source": [
        "numbers = [1, 2, 3, 4, 5]\n",
        "\n",
        "\n",
        "#map: Square each number\n",
        "\n",
        "squared_numbers = map(lambda x: x**2, numbers)\n",
        "print(list(squared_numbers))"
      ],
      "metadata": {
        "id": "ld6So0t9UaTK",
        "colab": {
          "base_uri": "https://localhost:8080/"
        },
        "outputId": "3e4142bb-ec12-4248-c2ee-97228c7dbc5c"
      },
      "execution_count": null,
      "outputs": [
        {
          "output_type": "stream",
          "name": "stdout",
          "text": [
            "[1, 4, 9, 16, 25]\n"
          ]
        }
      ]
    },
    {
      "cell_type": "code",
      "source": [
        "numbers = [1, 2, 3, 4, 5, 6]\n",
        "\n",
        "even_numbers = filter(lambda x: x % 2 == 0, numbers)\n",
        "print(list(even_numbers))"
      ],
      "metadata": {
        "id": "xWwzIwUPNuwF",
        "colab": {
          "base_uri": "https://localhost:8080/"
        },
        "outputId": "31c6eefe-3d24-4751-b50a-e626853f488e"
      },
      "execution_count": null,
      "outputs": [
        {
          "output_type": "stream",
          "name": "stdout",
          "text": [
            "[2, 4, 6]\n"
          ]
        }
      ]
    },
    {
      "cell_type": "code",
      "source": [
        "from functools import reduce\n",
        "numbers = [1, 2, 3, 4]\n",
        "\n",
        "product = reduce(lambda x, y: x * y, numbers)\n",
        "print(product)"
      ],
      "metadata": {
        "colab": {
          "base_uri": "https://localhost:8080/"
        },
        "id": "bR16QrnKhAB2",
        "outputId": "befdde36-54e4-481f-c740-6e339fd64728"
      },
      "execution_count": null,
      "outputs": [
        {
          "output_type": "stream",
          "name": "stdout",
          "text": [
            "24\n"
          ]
        }
      ]
    },
    {
      "cell_type": "markdown",
      "source": [
        "#Using pen & Paper write the internal mechanism for sum operation using  reduce function on this given\n",
        "list:[47,11,42,13];\n",
        "[link text](https://)https://colab.research.google.com/drive/1oJlaxfghuGyC_S5k5QVSZ1e-xLScZ7WU#scrollTo=XtuhsRKOHd9Q&line=1&uniqifier=1\n",
        "\n"
      ],
      "metadata": {
        "id": "SONTKcnKjOYU"
      }
    },
    {
      "cell_type": "code",
      "source": [
        "#Write a Python function that takes a list of numbers as input and returns the sum of all even numbers in the list.\n",
        "def sum_even_numbers(numbers):\n",
        "    even_numbers = filter(lambda x: x % 2 == 0, numbers)\n",
        "    return reduce(lambda x, y: x + y, even_numbers)\n",
        "\n",
        "\n",
        "numbers = [1, 2, 3, 4, 5, 6]\n",
        "sum_even_numbers(numbers)\n",
        "print(sum_even_numbers(numbers))\n",
        "\n"
      ],
      "metadata": {
        "colab": {
          "base_uri": "https://localhost:8080/"
        },
        "id": "LYUbt2dUjo7Y",
        "outputId": "76b58b44-78d5-4b48-a074-512094f5c580"
      },
      "execution_count": null,
      "outputs": [
        {
          "output_type": "stream",
          "name": "stdout",
          "text": [
            "12\n"
          ]
        }
      ]
    },
    {
      "cell_type": "code",
      "source": [
        "#Create a Python function that accepts a string and returns the reverse of that string.\n",
        "def reverse_string(input_string):\n",
        "    return input_string[::-1]\n",
        "\n",
        "\n",
        "input_string = \"Hello, World!\"\n",
        "print(reverse_string(input_string))"
      ],
      "metadata": {
        "colab": {
          "base_uri": "https://localhost:8080/"
        },
        "id": "Muub7NXAuB4Q",
        "outputId": "2f914e03-7d65-49ac-857e-4a2387c268e9"
      },
      "execution_count": null,
      "outputs": [
        {
          "output_type": "stream",
          "name": "stdout",
          "text": [
            "!dlroW ,olleH\n"
          ]
        }
      ]
    },
    {
      "cell_type": "code",
      "source": [
        "#Implement a Python function that takes a list of integers and returns a new list containing the squares of each number.\n",
        "def square_numbers(numbers):\n",
        "    return list(map(lambda x: x**2, numbers))\n",
        "\n",
        "\n",
        "numbers = [1, 2, 3, 4, 5]\n",
        "print(square_numbers(numbers))"
      ],
      "metadata": {
        "colab": {
          "base_uri": "https://localhost:8080/"
        },
        "id": "knbLsoEbXxo2",
        "outputId": "9c6ff1a5-b47b-4b57-fd90-38237170e8ba"
      },
      "execution_count": null,
      "outputs": [
        {
          "output_type": "stream",
          "name": "stdout",
          "text": [
            "[1, 4, 9, 16, 25]\n"
          ]
        }
      ]
    },
    {
      "cell_type": "code",
      "source": [
        "#Write a Python function that checks if a given number is prime or not from 1 to 200.\n",
        "def is_prime(number):\n",
        "    if number <= 1:\n",
        "         return False\n",
        "    if number <= 3:\n",
        "         return True\n",
        "    if number % 2 == 0 or number % 3 == 0:\n",
        "        return False\n",
        "    i = 5\n",
        "    while i * i <= number:\n",
        "        if number % i == 0 or number % (i + 2) == 0:\n",
        "            return False\n",
        "        i += 6\n",
        "    return True\n",
        "\n",
        "\n",
        "number = 17\n",
        "print(is_prime(number))"
      ],
      "metadata": {
        "id": "9sAdhhJHXxsR",
        "colab": {
          "base_uri": "https://localhost:8080/"
        },
        "outputId": "a6d028b9-e00c-464c-c8c4-6d0288ee7553"
      },
      "execution_count": null,
      "outputs": [
        {
          "output_type": "stream",
          "name": "stdout",
          "text": [
            "True\n"
          ]
        }
      ]
    },
    {
      "cell_type": "code",
      "source": [
        "#Create an iterator class in Python that generates the Fibonacci sequence up to a specified number of terms.\n",
        "class FibonacciIterator:\n",
        "    \"\"\"\n",
        "    An iterator that generates the Fibonacci sequence up to a specified number of terms.\n",
        "    \"\"\"\n",
        "    def __init__(self, limit):\n",
        "        \"\"\"\n",
        "        Intitializes the iterator with the limit of terms.\n",
        "        \"\"\"\n",
        "        self.limit = limit\n",
        "        self.a = 0\n",
        "        self.b = 1\n",
        "        self.count = 0\n",
        "\n",
        "    def __iter__(self):\n",
        "       \"\"\"\n",
        "       Returns the iterator object (self).\n",
        "       \"\"\"\n",
        "       return self\n",
        "\n",
        "    def __next__(self):\n",
        "        \"\"\"\n",
        "        Returns the next Fibonacci number in the sequence.\n",
        "        Raise StopIteration when the limit is reached.\n",
        "        \"\"\"\n",
        "        if self.count < self.limit:\n",
        "            result = self.a\n",
        "            self.a, self.b = self.b, self.a + self.b\n",
        "            self.count += 1\n",
        "            return result\n",
        "        else:\n",
        "            raise StopIteration\n",
        "\n",
        "\n",
        "fib_iter = FibonacciIterator(10)\n",
        "for num in fib_iter:\n",
        "    print(num)"
      ],
      "metadata": {
        "id": "qPKX1ywOeRcD",
        "colab": {
          "base_uri": "https://localhost:8080/"
        },
        "outputId": "dde84842-251c-4659-c4e7-b37851134319"
      },
      "execution_count": null,
      "outputs": [
        {
          "output_type": "stream",
          "name": "stdout",
          "text": [
            "0\n",
            "1\n",
            "1\n",
            "2\n",
            "3\n",
            "5\n",
            "8\n",
            "13\n",
            "21\n",
            "34\n"
          ]
        }
      ]
    },
    {
      "cell_type": "code",
      "source": [
        "#Write a generator function in Python that yields the powers of 2 up to a given exponent.\n",
        "def power_of_two(exponent):\n",
        "    for i in range(exponent + 1):\n",
        "        yield 2 ** I\n",
        "\n",
        "exponent = 5\n",
        "for power in power_of_two(exponent):\n",
        "    print(power)"
      ],
      "metadata": {
        "colab": {
          "base_uri": "https://localhost:8080/"
        },
        "id": "do59O7e8M39l",
        "outputId": "d2e126e6-32ed-4882-a339-364161b4786d"
      },
      "execution_count": null,
      "outputs": [
        {
          "output_type": "stream",
          "name": "stdout",
          "text": [
            "4\n",
            "4\n",
            "4\n",
            "4\n",
            "4\n",
            "4\n"
          ]
        }
      ]
    },
    {
      "cell_type": "code",
      "source": [
        "#Implement a generator function that reads a file line by line and yields each line as a string.\n",
        "def file_reader(file_path):\n",
        "    with open(file_path, 'r') as file:\n",
        "        for line in file:\n",
        "            yield line"
      ],
      "metadata": {
        "id": "gQfkzqOTN0rW"
      },
      "execution_count": null,
      "outputs": []
    },
    {
      "cell_type": "code",
      "source": [
        "#Use a lambda function in Python to sort a list of tuples based on the second element of each tuple.\n",
        "list_of_tuples = [(1, 'z'), (2, 'a'), (3, 'b')]\n",
        "sorted_list = sorted(list_of_tuples, key=lambda x: x[1])\n",
        "print(sorted_list)"
      ],
      "metadata": {
        "colab": {
          "base_uri": "https://localhost:8080/"
        },
        "id": "AkfEGIQsN-gg",
        "outputId": "32dbed6c-b5cd-4e91-82c4-25f8ad89af4f"
      },
      "execution_count": null,
      "outputs": [
        {
          "output_type": "stream",
          "name": "stdout",
          "text": [
            "[(2, 'a'), (3, 'b'), (1, 'z')]\n"
          ]
        }
      ]
    },
    {
      "cell_type": "code",
      "source": [
        "#Write a Python program that uses `map()` to convert a list of temperatures from Celsius to Fahrenheit\n",
        "def celsius_to_fahrenheit(celsius):\n",
        "    return (celsius * 9/5) + 32\n",
        "\n",
        "temperatures_celsius = [0, 10, 20, 30, 40, 50]\n",
        "temperatures_fahrenheit = list(map(celsius_to_fahrenheit, temperatures_celsius))\n",
        "print(temperatures_fahrenheit)"
      ],
      "metadata": {
        "colab": {
          "base_uri": "https://localhost:8080/"
        },
        "id": "i6GWKqufQuGA",
        "outputId": "ca1489aa-6fe8-4d50-800b-9eff51ea1e22"
      },
      "execution_count": null,
      "outputs": [
        {
          "output_type": "stream",
          "name": "stdout",
          "text": [
            "[32.0, 50.0, 68.0, 86.0, 104.0, 122.0]\n"
          ]
        }
      ]
    },
    {
      "cell_type": "code",
      "source": [
        "#Create a Python program that uses `filter()` to remove all the vowels from a given string\n",
        "def remove_vowels(input_string):\n",
        "    vowels = 'aeiouAEIOU'\n",
        "    result = ''.join(filter(lambda x: x not in vowels, input_string))\n",
        "    return result\n",
        "\n",
        "\n",
        "input_string = \"Ashoknagar\"\n",
        "print(remove_vowels(input_string))"
      ],
      "metadata": {
        "colab": {
          "base_uri": "https://localhost:8080/"
        },
        "id": "LgIKuCyZSqey",
        "outputId": "e5abf3fc-97cf-4a2a-cd30-c855a0c42cd4"
      },
      "execution_count": null,
      "outputs": [
        {
          "output_type": "stream",
          "name": "stdout",
          "text": [
            "shkngr\n"
          ]
        }
      ]
    },
    {
      "cell_type": "code",
      "source": [
        "#Imagine an accounting routine used in a book shop. It works on a list with sublists, which look like this:\n",
        "book_list = [\n",
        "    [34587, \"Learning Python, Mark Lutz\", 4, 40.95],\n",
        "    [98762, \"Programming Python, Mark Lutz\", 5, 56.88],\n",
        "    [77226, \"Head First Python, Paul Barry\", 3, 32.95],\n",
        "    [88112, \"Einfuhrung in Pyhthon3, Bernd klein\", 3, 24.99]\n",
        "]\n",
        "\n",
        "def calculate_order_total(order):\n",
        "    order_number, book_name, quantity, price_per_item = order\n",
        "    total_price = quantity * price_per_item\n",
        "    if total_price < 100:\n",
        "         total_price += 10\n",
        "    return (order_number, total_price)\n",
        "\n",
        "\n",
        "result = list(map(lambda order: calculate_order_total(order),book_list))\n",
        "print(result)\n"
      ],
      "metadata": {
        "colab": {
          "base_uri": "https://localhost:8080/"
        },
        "id": "VgZXk8rmT4Fl",
        "outputId": "b07c7ff5-937b-40b1-9309-9521afcd068b"
      },
      "execution_count": null,
      "outputs": [
        {
          "output_type": "stream",
          "name": "stdout",
          "text": [
            "[(34587, 163.8), (98762, 284.40000000000003), (77226, 108.85000000000001), (88112, 84.97)]\n"
          ]
        }
      ]
    }
  ]
}