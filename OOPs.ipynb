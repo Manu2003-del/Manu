{
  "nbformat": 4,
  "nbformat_minor": 0,
  "metadata": {
    "colab": {
      "provenance": [],
      "authorship_tag": "ABX9TyMl5NY1yqSjEAF5w6QnBAmz",
      "include_colab_link": true
    },
    "kernelspec": {
      "name": "python3",
      "display_name": "Python 3"
    },
    "language_info": {
      "name": "python"
    }
  },
  "cells": [
    {
      "cell_type": "markdown",
      "metadata": {
        "id": "view-in-github",
        "colab_type": "text"
      },
      "source": [
        "<a href=\"https://colab.research.google.com/github/Manu2003-del/Manu/blob/main/OOPs.ipynb\" target=\"_parent\"><img src=\"https://colab.research.google.com/assets/colab-badge.svg\" alt=\"Open In Colab\"/></a>"
      ]
    },
    {
      "cell_type": "markdown",
      "source": [
        "#What is Object-Oriented Programming(OOP)?\n",
        "-OOP is a programming paradigm centered around the concept of \"objects,\" which can contain data in the form of fields(attributes) and code in the form of procedures(methods).It emphasizes modularity,reusability,and maintainability in software development."
      ],
      "metadata": {
        "id": "fuKzPsFfLvYG"
      }
    },
    {
      "cell_type": "markdown",
      "source": [
        "#What is a class in OOP?\n",
        "-A class is a blueprint for creating objects.It defines the attributes and methods that objects that objects of that class will possess.\n"
      ],
      "metadata": {
        "id": "m_N0MK15N6Zw"
      }
    },
    {
      "cell_type": "markdown",
      "source": [
        "#What is an object in OOP?\n",
        "-An object is an instance of a class.It is a concrete entity that has specific values for the attributes defined by its class.\n"
      ],
      "metadata": {
        "id": "njnpmFy1QeIy"
      }
    },
    {
      "cell_type": "markdown",
      "source": [
        "#What is the difference between abstraction and encapsulation?\n",
        "-Abstraction focuses on showing only essential information to the user and hiding the complex implementation details,while encapsulation involves bundling the data within a class,restricting direct access from outside."
      ],
      "metadata": {
        "id": "QcD_GHo-Q-Yq"
      }
    },
    {
      "cell_type": "markdown",
      "source": [
        "#What are dunder methods in Python?\n",
        "-Dunder methods(also known as magic methods) are special methods in Python that begin and end with double underscores(e.g.,_init_,_str_).They are used to implement operator overloading and customize class behavior.\n"
      ],
      "metadata": {
        "id": "A5tAxlO7TMYw"
      }
    },
    {
      "cell_type": "markdown",
      "source": [
        "#Explain the concept of inheritance in OOP?\n",
        "-Inheritance allows a class(subclass or derived class) to inherit attributes and methods from another class(superclass or base class).It promotes code reuse and establishes a hierarchical relationship between classes.\n"
      ],
      "metadata": {
        "id": "BOlHbbg-ULfC"
      }
    },
    {
      "cell_type": "markdown",
      "source": [
        "#What is polymorphism in OOP?\n",
        "-Polymorphism means\"many form\".In OOP,it allows objects ofv different classes to respond to the same method call in their own specific ways.\n"
      ],
      "metadata": {
        "id": "uwHbFKmviTg-"
      }
    },
    {
      "cell_type": "markdown",
      "source": [
        "#How is encapsulation achieved in Python?\n",
        "-Encapsulation in Python is achieved by using access modifiers(public,protected,private) and properties.While Python doesn't enfore strict access control like some other languages,it uses naming conventions(e.g.,single underscore for protected,double underscore for private) to indicate the intended level of access.\n"
      ],
      "metadata": {
        "id": "ZoN8ZcE2jD2O"
      }
    },
    {
      "cell_type": "markdown",
      "source": [
        "#What is a constructor in Python?\n",
        "-A constructor is a special method in class (typically named_init_) that is automatically called when an object of the class when an object of the class is created.It is used to initialize the object's attributes.\n"
      ],
      "metadata": {
        "id": "X9jJ9lholyhz"
      }
    },
    {
      "cell_type": "markdown",
      "source": [
        "#What are class and static methods in Python?\n",
        "-A class method is bound to the class and receives the class itself as the first argument(cls).A static method is not bound to the class or an instance and does not receive any special first argument.\n"
      ],
      "metadata": {
        "id": "pIJov0Xhmrds"
      }
    },
    {
      "cell_type": "markdown",
      "source": [
        "#What is method overloading in Python?\n",
        "-Method overloading is the ability to define multiple methods with the same name but different parameters within a class.\n",
        "However,Python does not support traditional method overloading like some other languages.Instead,it can be achieved using default arguments or variable-length argument lists.\n"
      ],
      "metadata": {
        "id": "oDLwARLIqGHJ"
      }
    },
    {
      "cell_type": "markdown",
      "source": [
        "#What is method overriding in OOP?\n",
        "-Method overriding occurs when a subclass provides a specific implementation for a method that is already defined in its superclass.This allows the subclass to customize the behaviour of inherited methods.\n"
      ],
      "metadata": {
        "id": "mKMsdiamv3FQ"
      }
    },
    {
      "cell_type": "markdown",
      "source": [
        "#What is a property decorator in Python?\n",
        "-A property decorator(@property)is used to define getter,setter,and deleter methods for class attributes,allowing controlled access and modification of attribute values.\n"
      ],
      "metadata": {
        "id": "4xOfJ940w4JA"
      }
    },
    {
      "cell_type": "markdown",
      "source": [
        "#Why is polymorphism important in OOP?\n",
        "-Polymorphism enhances code flexibility and extensibility.It allows code to work with objects of different classes in a uniform way,promoting code reuse and reducing coupling.\n"
      ],
      "metadata": {
        "id": "P8_46rF7k6Qt"
      }
    },
    {
      "cell_type": "markdown",
      "source": [
        "#What is an abstract class in Python?\n",
        "-An abstract class is a class that cannot be instantiated directly.It serves as a blueprint for other classes and may contain abstract methods(methods without implementation) that must be implemented by its subclasses.\n"
      ],
      "metadata": {
        "id": "UcBjzJvLlrMP"
      }
    },
    {
      "cell_type": "markdown",
      "source": [
        "#What are the advantages of OOP?\n",
        "-OOP offers several advantages,including modularity,code reusability,maintainability,exensibility,and data hiding.\n"
      ],
      "metadata": {
        "id": "fMr8e1y3lrVB"
      }
    },
    {
      "cell_type": "markdown",
      "source": [
        "#What is the difference between a class variable and an instance variable?\n",
        "-A class variable is shared among all instances of a class, while an instance variable is unique to each instance.\n"
      ],
      "metadata": {
        "id": "jl-lJenyngGk"
      }
    },
    {
      "cell_type": "markdown",
      "source": [
        "#What is multiple inheritance in Python?\n",
        "-Multiple inheritance allows a class to inherit from multiple base classes,combining their attributes and methods.Python supports multiple inheritance,but it can lead to complexities like the \"diamond problem\" if not handled carefully.\n"
      ],
      "metadata": {
        "id": "4lERLPkbngKy"
      }
    },
    {
      "cell_type": "markdown",
      "source": [
        "#Explain the purpose of ‘’__str__’ and ‘__repr__’ ‘ methods in Python?\n",
        "-The _str_ method returns a human-readable string representation of an object,while_repr_returns a string representataion that can be used to recreate the object.\n"
      ],
      "metadata": {
        "id": "XRTHr6txngOP"
      }
    },
    {
      "cell_type": "markdown",
      "source": [
        "#What is the significance of the ‘super()’ function in Python?\n",
        "-The super()function is used to call methods from a parent class.It is useful for inheriting and extending the functionality of parent classes in subclasses.\n"
      ],
      "metadata": {
        "id": "ideKWOU4soFo"
      }
    },
    {
      "cell_type": "markdown",
      "source": [
        "#What is the significance of the __del__ method in Python?\n",
        "-The _del_method is called when an object is garbage collected(destroyed).It can be used to perform cleanup operations,such as releasing resources.\n"
      ],
      "metadata": {
        "id": "MYtC5scLtsNI"
      }
    },
    {
      "cell_type": "markdown",
      "source": [
        "#What is the difference between @staticmethod and @classmethod in Python?\n",
        "-@staticmethod defines a method that does not depend on the class or instance,while @classmethod defines a method that receives the class as an implicit first argument,allowing it to access and modify class-level attributes.\n"
      ],
      "metadata": {
        "id": "sIc-ExpznhU0"
      }
    },
    {
      "cell_type": "markdown",
      "source": [
        "#How does polymorphism work in Python with inheritance?\n",
        "-Polymorphism allows objects of different classes to be treated as objects of a common type(usually a base class).With inheritance,subclasses can override methods of their parent class,providing specific implementations while adhering to a common interface.\n"
      ],
      "metadata": {
        "id": "3DsjHjetruOw"
      }
    },
    {
      "cell_type": "markdown",
      "source": [
        "#What is method chaining in Python OOP?\n",
        "-Method chaining is the practice of calling multiple methods on an object sequentially in a single line of code.Each method in the chain returns the object itself,allowing for subsequent method calls.\n"
      ],
      "metadata": {
        "id": "wQ3gilVNwcv_"
      }
    },
    {
      "cell_type": "markdown",
      "source": [
        "#What is the purpose of the __call__ method in Python?\n",
        "-The _call_method allows an object to be called like a function.When defined,it enables instance of the class to be invoked directly,exceuting the code within the _call_ method."
      ],
      "metadata": {
        "id": "6m8LdOfx0u-1"
      }
    },
    {
      "cell_type": "code",
      "source": [
        "#Create a parent class Animal with a method speak() that prints a generic message. Create a child class Dog that overrides the speak() method to print \"Bark!\".\n",
        "class Animal:\n",
        "    def speak(self):\n",
        "        print(\"Generic animal sound\")\n",
        "\n",
        "class Dog(Animal):\n",
        "    def speak(speak):\n",
        "        print(\"Bark!\")\n"
      ],
      "metadata": {
        "id": "7go1y6pK1r06"
      },
      "execution_count": 10,
      "outputs": []
    },
    {
      "cell_type": "code",
      "source": [
        "#Write a program to create an abstract class Shape with a method area(). Derive classes Circle and Reactangle from it and implement the area() method in both.\n",
        "from abc import ABC, abstractmethod\n",
        "import math\n",
        "\n",
        "class Shape(ABC):\n",
        "    @abstractmethod\n",
        "    def area(self):\n",
        "        pass\n",
        "\n",
        "class Circle(Shape):\n",
        "    def __init__(self, radius):\n",
        "       self.radius=radius\n",
        "\n",
        "    def area(self):\n",
        "        return math.pi * self.radius**2\n",
        "\n",
        "class Rectanlge(Shape):\n",
        "      def __init__(self, length, width):\n",
        "          self.length = length\n",
        "          self.width = width\n",
        "\n",
        "      def area(self):\n",
        "        return self.length * self.width"
      ],
      "metadata": {
        "id": "dDiP65yd3bRB"
      },
      "execution_count": 11,
      "outputs": []
    },
    {
      "cell_type": "code",
      "source": [
        "#Implement a multi-level inheritance scenario where a class Vehicle has an attribute type. Derive a class Carand further derive a class ElectricCar that adds a battery attribute.\n",
        "class Vehicle:\n",
        "    def __init__(self, type):\n",
        "        self.type = type\n",
        "\n",
        "class Car(Vehicle):\n",
        "    def __init__(self, type, model):\n",
        "        super().__init__(type)\n",
        "        self.model = model\n",
        "class ElectricCar(Car):\n",
        "    def __init__(self, type, model, battery):\n",
        "        super().__init__(type,model)\n",
        "        self.battery = battery\n",
        "\n",
        "my_car = ElectricCar(\"Electric\", \"Tesla Model S\", \"100 kWh\")\n",
        "print(my_car.type)\n",
        "print(my_car.model)\n",
        "print(my_car.battery)"
      ],
      "metadata": {
        "colab": {
          "base_uri": "https://localhost:8080/"
        },
        "id": "FdNvlILAuRlv",
        "outputId": "08832d0c-5c59-470a-ab00-9981239d1528"
      },
      "execution_count": 17,
      "outputs": [
        {
          "output_type": "stream",
          "name": "stdout",
          "text": [
            "Electric\n",
            "Tesla Model S\n",
            "100 kWh\n"
          ]
        }
      ]
    },
    {
      "cell_type": "code",
      "source": [
        " #Demonstrate polymorphism by creating a base class Bird with a method fly(). Create two derived classesSparrow and Penguin that override the fly() method.\n",
        "class Bird:\n",
        "    def fly(self):\n",
        "       print(\"Generic bird flying\")\n",
        "\n",
        "class Sparrow(Bird):\n",
        "    def fly(self):\n",
        "       print(\"Sparrow flying\")\n",
        "\n",
        "class Penguin(Bird):\n",
        "    def fly(self):\n",
        "        print(\"Pengiun can't fly\")"
      ],
      "metadata": {
        "id": "DKJ1hY78v1B_"
      },
      "execution_count": 18,
      "outputs": []
    },
    {
      "cell_type": "code",
      "source": [
        "#Create a class MathOperations with a class method add_numbers() to add two numbers and a staticmethod subtract_numbers() to subtract two numbers.\n",
        "class BankAccount:\n",
        "    def __init__(self, balance):\n",
        "        \"\"\"Initialize the BankAccount with a balance.\"\"\"\n",
        "        self._balance = balance\n",
        "    def deposit(self, amount):\n",
        "        \"\"\"Deposits money from the account.\"\"\"\n",
        "        self._balance += amount\n",
        "    def withdraw(self, amount):\n",
        "        \"\"\"Withdraws money from the account.\"\"\"\n",
        "        if amount <= self._balance:\n",
        "            self._balance -= amount\n",
        "        else:\n",
        "            print(\"Insufficient funds\")\n",
        "    def check_balance(self):\n",
        "        \"\"\"Checks the current balance of the account.\"\"\"\n",
        "        return self._balance\n",
        "\n",
        "account = BankAccount(1000)\n",
        "account.deposit(500)\n",
        "account.withdraw(200)\n",
        "print(account.check_balance)\n",
        "account.withdraw(1500)\n",
        "print(account.check_balance())"
      ],
      "metadata": {
        "colab": {
          "base_uri": "https://localhost:8080/"
        },
        "id": "8rWXefw2y5QB",
        "outputId": "9bc23280-cfe1-4f4b-9d33-1e67c214484d"
      },
      "execution_count": 20,
      "outputs": [
        {
          "output_type": "stream",
          "name": "stdout",
          "text": [
            "<bound method BankAccount.check_balance of <__main__.BankAccount object at 0x7a1eacacc950>>\n",
            "Insufficient funds\n",
            "1300\n"
          ]
        }
      ]
    },
    {
      "cell_type": "code",
      "source": [
        "#Implement a class Person with a class method to count the total number of persons created.class Instrument:\n",
        "class Person:\n",
        "    count = 0\n",
        "\n",
        "    def __init__(self):\n",
        "        Person.count += 1\n",
        "\n",
        "    @classmethod\n",
        "    def get_count(cls):\n",
        "        return cls.count\n",
        "\n",
        "class Instrument:\n",
        "    def play(self):\n",
        "        print(\"Generic instrument playing\")\n",
        "\n",
        "class Guitar(Instrument):\n",
        "    def play(self):\n",
        "          print(\"Playing guitar sound\")\n",
        "\n",
        "class Piano(Instrument):\n",
        "    def play(self):\n",
        "        print(\"Playing piano sound\")\n",
        "\n",
        "person1 = Person()\n",
        "person2 = Person()\n",
        "print(f\"Total persons creates: {Person.get_count()}\")\n",
        "\n",
        "guitar = Guitar()\n",
        "guitar.play()\n",
        "\n",
        "piano = Piano()\n",
        "piano.play()"
      ],
      "metadata": {
        "id": "qqkT3zD7y5F3",
        "colab": {
          "base_uri": "https://localhost:8080/"
        },
        "outputId": "4bc65cd8-8f01-4753-fdd6-41418c13b8a5"
      },
      "execution_count": 22,
      "outputs": [
        {
          "output_type": "stream",
          "name": "stdout",
          "text": [
            "Total persons creates: 2\n",
            "Playing guitar sound\n",
            "Playing piano sound\n"
          ]
        }
      ]
    },
    {
      "cell_type": "code",
      "source": [
        "#Write a class Fraction with attributes numerator and denominator. Override the str method to display thefraction as \"numerator/denominator\".\n",
        "class Fraction:\n",
        "    def __init__(self, numerator, denominator):\n",
        "        self.numerator = numerator\n",
        "        self.denominator = denominator\n",
        "\n",
        "    def __str__(self):\n",
        "        return f\"{self.numerator}/{self.denominator}\"\n",
        "\n",
        "\n",
        "class MathOperations:\n",
        "    @classmethod\n",
        "    def add_numbers(cls, x, y):\n",
        "        return x + y\n",
        "\n",
        "    @staticmethod\n",
        "    def subtract_numbers(x, y):\n",
        "        return x - y\n",
        "fraction1 = Fraction(3, 4)\n",
        "print(fraction1)\n",
        "\n",
        "result_add = MathOperations.add_numbers(5, 2)\n",
        "print(result_add)\n",
        "\n",
        "result_subtract = MathOperations.subtract_numbers(10, 7)\n",
        "print(result_subtract)"
      ],
      "metadata": {
        "colab": {
          "base_uri": "https://localhost:8080/"
        },
        "id": "Xr844_pZ3Pb-",
        "outputId": "b393a94d-72b9-47c7-ea01-534abbd52070"
      },
      "execution_count": 30,
      "outputs": [
        {
          "output_type": "stream",
          "name": "stdout",
          "text": [
            "3/4\n",
            "7\n",
            "3\n"
          ]
        }
      ]
    },
    {
      "cell_type": "code",
      "source": [
        "#Demonstrate operator overloading by creating a class Vector and overriding the add method to add two vectors.\n",
        "class Person:\n",
        "   count = 0\n",
        "   def __init__(self):\n",
        "       Person.count += 1\n",
        "   @classmethod\n",
        "   def total_persons(cls):\n",
        "       return cls.count\n",
        "\n",
        "person1 = Person()\n",
        "person2 = Person()\n",
        "person3 = Person()\n",
        "\n",
        "total_persons = Person.total_persons()\n",
        "print(f\"Total persons: {total_persons}\")"
      ],
      "metadata": {
        "colab": {
          "base_uri": "https://localhost:8080/"
        },
        "id": "LQNBDmQC4xym",
        "outputId": "f7da5b2d-6572-44ad-b1be-4f69b6296312"
      },
      "execution_count": 32,
      "outputs": [
        {
          "output_type": "stream",
          "name": "stdout",
          "text": [
            "Total persons: 3\n"
          ]
        }
      ]
    },
    {
      "cell_type": "code",
      "source": [
        "#Create a class Person with attributes name and age. Add a method greet() that prints \"Hello, my name is {name} and I am {age} years old.\"\n",
        "  class Fraction:\n",
        "   def_init_(self, numerator, denominator):\n",
        "      self.numerator = numerator\n",
        "      self.denominator = denominator\n",
        "\n",
        "   def_str_(self):\n",
        "      return f\"{self.numerator}/{self.denominator}\""
      ],
      "metadata": {
        "id": "BUgyw-WL84T0",
        "colab": {
          "base_uri": "https://localhost:8080/",
          "height": 106
        },
        "outputId": "0edd847c-5da2-40e1-f18f-c162b291c4c6"
      },
      "execution_count": 4,
      "outputs": [
        {
          "output_type": "error",
          "ename": "IndentationError",
          "evalue": "unexpected indent (<ipython-input-4-3121135e1872>, line 2)",
          "traceback": [
            "\u001b[0;36m  File \u001b[0;32m\"<ipython-input-4-3121135e1872>\"\u001b[0;36m, line \u001b[0;32m2\u001b[0m\n\u001b[0;31m    class Fraction:\u001b[0m\n\u001b[0m    ^\u001b[0m\n\u001b[0;31mIndentationError\u001b[0m\u001b[0;31m:\u001b[0m unexpected indent\n"
          ]
        }
      ]
    },
    {
      "cell_type": "code",
      "source": [
        "#Implement a class Student with attributes name and grades. Create a method average_grade() to compute the average of the grades.\n",
        "class Student:\n",
        "   def_init_(self,name,grades):\n",
        "      self.name = name\n",
        "      self.grades = grades\n",
        "\n",
        "   def average_grade(self):\n",
        "      print {f\"Hello,my name is {self.name}and I am {self.age}years old.\"}"
      ],
      "metadata": {
        "colab": {
          "base_uri": "https://localhost:8080/",
          "height": 106
        },
        "id": "ib93YNGK_T3-",
        "outputId": "84714e12-c62b-485f-b747-5f0e7f384864"
      },
      "execution_count": 9,
      "outputs": [
        {
          "output_type": "error",
          "ename": "SyntaxError",
          "evalue": "invalid syntax (<ipython-input-9-17627fc88a54>, line 3)",
          "traceback": [
            "\u001b[0;36m  File \u001b[0;32m\"<ipython-input-9-17627fc88a54>\"\u001b[0;36m, line \u001b[0;32m3\u001b[0m\n\u001b[0;31m    def_init_(self,name,grades):\u001b[0m\n\u001b[0m                               ^\u001b[0m\n\u001b[0;31mSyntaxError\u001b[0m\u001b[0;31m:\u001b[0m invalid syntax\n"
          ]
        }
      ]
    },
    {
      "cell_type": "code",
      "source": [
        "#Create a class Rectangle with methods set_dimensions() to set the dimensions and area() to calculate the area.\n",
        "class Vector:\n",
        "     def_init_(self,x,y):\n",
        "       self.x = X\n",
        "       self.y = y\n",
        "\n",
        "     def_add_(self,other):\n",
        "        return Vector(self.x + other.x,self.y + other.y)"
      ],
      "metadata": {
        "colab": {
          "base_uri": "https://localhost:8080/",
          "height": 106
        },
        "id": "JPpH3dLHA1TJ",
        "outputId": "e1926447-5499-4968-b2e0-b86691337816"
      },
      "execution_count": 7,
      "outputs": [
        {
          "output_type": "error",
          "ename": "SyntaxError",
          "evalue": "invalid syntax (<ipython-input-7-c603c5e91960>, line 3)",
          "traceback": [
            "\u001b[0;36m  File \u001b[0;32m\"<ipython-input-7-c603c5e91960>\"\u001b[0;36m, line \u001b[0;32m3\u001b[0m\n\u001b[0;31m    def_init_(self,x,y):\u001b[0m\n\u001b[0m                       ^\u001b[0m\n\u001b[0;31mSyntaxError\u001b[0m\u001b[0;31m:\u001b[0m invalid syntax\n"
          ]
        }
      ]
    },
    {
      "cell_type": "code",
      "source": [],
      "metadata": {
        "id": "hhM6pw2gC_jb"
      },
      "execution_count": null,
      "outputs": []
    }
  ]
}