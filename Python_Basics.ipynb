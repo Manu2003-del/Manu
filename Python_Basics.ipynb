{
  "nbformat": 4,
  "nbformat_minor": 0,
  "metadata": {
    "colab": {
      "provenance": [],
      "authorship_tag": "ABX9TyPxIzEJKHzcpvjYicNAMOIt",
      "include_colab_link": true
    },
    "kernelspec": {
      "name": "python3",
      "display_name": "Python 3"
    },
    "language_info": {
      "name": "python"
    }
  },
  "cells": [
    {
      "cell_type": "markdown",
      "metadata": {
        "id": "view-in-github",
        "colab_type": "text"
      },
      "source": [
        "<a href=\"https://colab.research.google.com/github/Manu2003-del/Manu/blob/main/Python_Basics.ipynb\" target=\"_parent\"><img src=\"https://colab.research.google.com/assets/colab-badge.svg\" alt=\"Open In Colab\"/></a>"
      ]
    },
    {
      "cell_type": "markdown",
      "source": [
        " # What is Python,and why is it popular?\n",
        "   -Python is a computer programming language that's used to build software websites,and analyze data.It's popular due to its versatility,lot of libraries,and a huge active large community.\n",
        "\n",
        " # What is an interpreter in Python?\n",
        "   -The Python interpreter is a program that excutes Python code line by line , translating it into machine-readable instructions.\n",
        "\n",
        " # what is pre-defined keywords in python?\n",
        "   -Pre-defined keywords are the words that hold a special meaning and have specific purpose in python,like if,else,for,while,etc.\n",
        "\n",
        " # Can keywords be used as variable names?\n",
        "   -No,keywords cannot be used as variable names.\n",
        "\n",
        " # What is mutability in Python?\n",
        "   -Mutability refers to the objects whose state or value can be changed after they are created.\n",
        "\n",
        " # Why are lists mutable, but tuples are immutable?\n",
        "   -Lists are mutable because you can add,remove,or modify their elements.Tuples are immutable,meaning their elements cannot be changed once created.\n",
        "\n",
        " # What is the difference between “==” and “is” operators in Python?\n",
        "   -The ==opertor checks if two objects have the same value,while the is opertor checks if they are the same object in memory.\n",
        "\n",
        " # What are logical operators in Python?\n",
        "   -Logical opertors are used to combine or modify the results of comparisons:and,or,and not.\n",
        "\n",
        " # What is type casting in Python?\n",
        "   -The process of changing the data type of a value/object like converting an integer to a string.\n",
        "\n",
        " # What is the difference between implicit and explicit type casting?\n",
        "   -Implicit type casting happens automatically by the interpreter,while explicit type casting is done manually by the programmer.\n",
        "\n",
        " # What is the purpose of conditional statements in Python?\n",
        "   -Conditional statements (if,elif,else)allow you to excute different blocks of code based on specific conditions.\n",
        "\n",
        " # How does the elif statement work?\n",
        "   -The elif (short for \"else if\") statement allows you to check multiple conditions sequentially.If the if condition is false,it checks the first elif condition,and so on.\n",
        "  \n",
        " # What is the difference between for and while loops?\n",
        "   -A for loop iterates over a sequnce (like a list or a string),while a while loop contines to execute as long as a give condition is true.\n",
        "\n",
        " # Describe a scenario where a while loop is more suitable than a for loop?\n",
        "   -A while loop is more is more sutiable when you don't know in advance how many times you need to iterate.For example,when reading data from a file until the end is reached.\n",
        "\n",
        "\n",
        "\n",
        "\n",
        "  "
      ],
      "metadata": {
        "id": "8GdL5KYDqXoY"
      }
    },
    {
      "cell_type": "code",
      "source": [],
      "metadata": {
        "id": "8jUBYKMHqbfs"
      },
      "execution_count": null,
      "outputs": []
    },
    {
      "cell_type": "code",
      "execution_count": null,
      "metadata": {
        "id": "iCnmHVlrqWaU"
      },
      "outputs": [],
      "source": []
    }
  ]
}