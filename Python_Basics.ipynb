{
  "nbformat": 4,
  "nbformat_minor": 0,
  "metadata": {
    "colab": {
      "provenance": []
    },
    "kernelspec": {
      "name": "python3",
      "display_name": "Python 3"
    },
    "language_info": {
      "name": "python"
    }
  },
  "cells": [
    {
      "cell_type": "markdown",
      "source": [
        " # What is Python,and why is it popular?\n",
        "   -Python is a computer programming language that's used to build software websites,and analyze data.It's popular due to its versatility,lot of libraries,and a huge active large community.\n",
        "\n",
        " # What is an interpreter in Python?\n",
        "   -The Python interpreter is a program that excutes Python code line by line , translating it into machine-readable instructions.\n",
        "\n",
        " # what is pre-defined keywords in python?\n",
        "   -Pre-defined keywords are the words that hold a special meaning and have specific purpose in python,like if,else,for,while,etc.\n",
        "\n",
        " # Can keywords be used as variable names?\n",
        "   -No,keywords cannot be used as variable names.\n",
        "\n",
        " # What is mutability in Python?\n",
        "   -Mutability refers to the objects whose state or value can be changed after they are created.\n",
        "\n",
        " # Why are lists mutable, but tuples are immutable?\n",
        "   -Lists are mutable because you can add,remove,or modify their elements.Tuples are immutable,meaning their elements cannot be changed once created.\n",
        "\n",
        " # What is the difference between “==” and “is” operators in Python?\n",
        "   -The ==opertor checks if two objects have the same value,while the is opertor checks if they are the same object in memory.\n",
        "\n",
        " # What are logical operators in Python?\n",
        "   -Logical opertors are used to combine or modify the results of comparisons:and,or,and not.\n",
        "\n",
        " # What is type casting in Python?\n",
        "   -The process of changing the data type of a value/object like converting an integer to a string.\n",
        "\n",
        " # What is the difference between implicit and explicit type casting?\n",
        "   -Implicit type casting happens automatically by the interpreter,while explicit type casting is done manually by the programmer.\n",
        "\n",
        " # What is the purpose of conditional statements in Python?\n",
        "   -Conditional statements (if,elif,else)allow you to excute different blocks of code based on specific conditions.\n",
        "\n",
        " # How does the elif statement work?\n",
        "   -The elif (short for \"else if\") statement allows you to check multiple conditions sequentially.If the if condition is false,it checks the first elif condition,and so on.\n",
        "  \n",
        " # What is the difference between for and while loops?\n",
        "   -A for loop iterates over a sequnce (like a list or a string),while a while loop contines to execute as long as a give condition is true.\n",
        "\n",
        " # Describe a scenario where a while loop is more suitable than a for loop?\n",
        "   -A while loop is more is more sutiable when you don't know in advance how many times you need to iterate.For example,when reading data from a file until the end is reached.\n",
        "\n",
        "\n",
        "\n",
        "\n",
        "  "
      ],
      "metadata": {
        "id": "8GdL5KYDqXoY"
      }
    },
    {
      "cell_type": "code",
      "source": [
        "#Write a Python program to print \"Hello, World!\n",
        "print(\"hello world!\")\n",
        "\n"
      ],
      "metadata": {
        "colab": {
          "base_uri": "https://localhost:8080/"
        },
        "id": "8jUBYKMHqbfs",
        "outputId": "f4ff9d0a-ea48-4f5d-e65e-f979d84e751e"
      },
      "execution_count": null,
      "outputs": [
        {
          "output_type": "stream",
          "name": "stdout",
          "text": [
            "hello world!\n"
          ]
        }
      ]
    },
    {
      "cell_type": "code",
      "execution_count": null,
      "metadata": {
        "colab": {
          "base_uri": "https://localhost:8080/"
        },
        "id": "iCnmHVlrqWaU",
        "outputId": "83a8eebd-31bc-4bb3-ff3d-acafedc657b3"
      },
      "outputs": [
        {
          "output_type": "stream",
          "name": "stdout",
          "text": [
            "manu\n",
            "21\n"
          ]
        }
      ],
      "source": [
        "#Write a Python program that displays your name and age?\n",
        "name = \"Manu\"\n",
        "age = 21\n",
        "print(\"manu\")\n",
        "print(\"21\")"
      ]
    },
    {
      "cell_type": "code",
      "source": [
        "#Write code to print all the pre-defined keywords in Python using the keyword library?\n",
        "help(\"keywords\")"
      ],
      "metadata": {
        "colab": {
          "base_uri": "https://localhost:8080/"
        },
        "id": "IMykldGAxG_3",
        "outputId": "363377ae-d807-43e2-d879-d467688fb01e"
      },
      "execution_count": null,
      "outputs": [
        {
          "output_type": "stream",
          "name": "stdout",
          "text": [
            "\n",
            "Here is a list of the Python keywords.  Enter any keyword to get more help.\n",
            "\n",
            "False               class               from                or\n",
            "None                continue            global              pass\n",
            "True                def                 if                  raise\n",
            "and                 del                 import              return\n",
            "as                  elif                in                  try\n",
            "assert              else                is                  while\n",
            "async               except              lambda              with\n",
            "await               finally             nonlocal            yield\n",
            "break               for                 not                 \n",
            "\n"
          ]
        }
      ]
    },
    {
      "cell_type": "code",
      "source": [
        "#Write a program that checks if a given word is a Python keyword?\n",
        "word  = input(\"import\")\n",
        "if word == \"import\":\n",
        "    print(\"import\")\n",
        "else:\n",
        "    print(\"import\")\n"
      ],
      "metadata": {
        "colab": {
          "base_uri": "https://localhost:8080/"
        },
        "id": "zljXbiuyz2WO",
        "outputId": "e4ba5ca3-52b7-4d14-d0db-a923ae13d12b"
      },
      "execution_count": null,
      "outputs": [
        {
          "output_type": "stream",
          "name": "stdout",
          "text": [
            "importkeyword\n",
            "import\n"
          ]
        }
      ]
    },
    {
      "cell_type": "code",
      "source": [
        "#Create a list and tuple in Python, and demonstrate how attempting to change an element works differently\n",
        "for each?\n",
        "my_list = [1,2,3]\n",
        "my_tuple = (1,2,3)\n",
        "\n",
        "my_list[0] = 4\n",
        "print(my_list)\n",
        "\n",
        "#my_tuple[0] = 4\n",
        "print(my_tuple)\n"
      ],
      "metadata": {
        "colab": {
          "base_uri": "https://localhost:8080/"
        },
        "id": "bRQBE2rA4DDl",
        "outputId": "a0ca6e50-35db-457d-b78c-81a7d22a7502"
      },
      "execution_count": null,
      "outputs": [
        {
          "output_type": "stream",
          "name": "stdout",
          "text": [
            "Object `each` not found.\n",
            "[4, 2, 3]\n",
            "(1, 2, 3)\n"
          ]
        }
      ]
    },
    {
      "cell_type": "code",
      "source": [
        "#Write a function to demonstrate the behavior of mutable and immutable argument?\n",
        "def modify_list(my_list):\n",
        "    my_list.append(4)\n",
        "\n",
        "def modify_int(my_int):\n",
        "    my_int += 5\n",
        "\n",
        "my_list =[1,2,3]\n",
        "my_int = 5\n",
        "modify_list(my_list)\n",
        "print(my_list)\n",
        "\n",
        "modify_int(my_int)\n",
        "print(my_int)\n",
        "\n",
        "\n"
      ],
      "metadata": {
        "colab": {
          "base_uri": "https://localhost:8080/"
        },
        "id": "vXigUKxK7GVA",
        "outputId": "6b829c0e-2970-4ce0-d0b9-4453ca6c69f7"
      },
      "execution_count": null,
      "outputs": [
        {
          "output_type": "stream",
          "name": "stdout",
          "text": [
            "[1, 2, 3, 4]\n",
            "5\n"
          ]
        }
      ]
    },
    {
      "cell_type": "code",
      "source": [
        "#Write a function to demonstrate the behavior of mutable and immutable arguments?\n",
        "def modify_list(my_list):\n",
        "    my_list.append(4)\n",
        "\n",
        "def modify_int(my_int):\n",
        "    my_int += 5\n",
        "\n",
        "my_list =[1,2,3]\n",
        "my_int = 5\n",
        "modify_list(my_list)\n",
        "print(my_list)\n",
        "\n",
        "modify_int(my_int)\n",
        "print(my_int)\n",
        "\n"
      ],
      "metadata": {
        "colab": {
          "base_uri": "https://localhost:8080/"
        },
        "id": "JinXGfya9yeW",
        "outputId": "0ea8f9e4-8cc3-4a07-e6b1-92fd66b41724"
      },
      "execution_count": null,
      "outputs": [
        {
          "output_type": "stream",
          "name": "stdout",
          "text": [
            "[1, 2, 3, 4]\n",
            "5\n"
          ]
        }
      ]
    },
    {
      "cell_type": "code",
      "source": [
        "#Write a program to demonstrate the use of logical operators?\n",
        "x = 5\n",
        "y = 10\n",
        "\n",
        "print(5>3 and 10<15)\n",
        "\n",
        "print(5<3 or 10>15)\n",
        "\n",
        "print(not(5==5))\n"
      ],
      "metadata": {
        "colab": {
          "base_uri": "https://localhost:8080/"
        },
        "id": "zHTpiUtK_SFV",
        "outputId": "f2c60678-f1ef-4ae7-c331-bc575cd06a23"
      },
      "execution_count": null,
      "outputs": [
        {
          "output_type": "stream",
          "name": "stdout",
          "text": [
            "True\n",
            "False\n",
            "False\n"
          ]
        }
      ]
    },
    {
      "cell_type": "code",
      "source": [
        "#Write a Python program to convert user input from string to integer, float, and boolean types?\n",
        "str_input = input(\"abhi:\")\n",
        "int_input = int(7)\n",
        "float_input = float(2.3)\n",
        "Bool_input = bool(True)\n",
        "\n",
        "print(\"int_value,float_value,bool_value:\")\n",
        "\n",
        "\n"
      ],
      "metadata": {
        "colab": {
          "base_uri": "https://localhost:8080/"
        },
        "id": "FOe_Ai_jAQlv",
        "outputId": "319e7a82-91fd-49b3-b6ef-3e1e542e0854"
      },
      "execution_count": null,
      "outputs": [
        {
          "output_type": "stream",
          "name": "stdout",
          "text": [
            "abhi:7\n",
            "int_value,float_value,bool_value:\n"
          ]
        }
      ]
    },
    {
      "cell_type": "code",
      "source": [
        "#Write code to demonstrate type casting with list elements?\n",
        "my_list = [1,\"2,\",3.5]\n",
        "\n",
        "#my_list =[ int(1) for 6 in my_list:]\n",
        "\n",
        "print(my_list)"
      ],
      "metadata": {
        "colab": {
          "base_uri": "https://localhost:8080/"
        },
        "id": "TSuhf8yrAQrH",
        "outputId": "455ad71d-a6ec-475e-a24e-d15d2fac7e01"
      },
      "execution_count": null,
      "outputs": [
        {
          "output_type": "stream",
          "name": "stdout",
          "text": [
            "[1, '2,', 3.5]\n"
          ]
        }
      ]
    },
    {
      "cell_type": "code",
      "source": [
        "#Write a program that checks if a number is positive, negative, or zero?\n",
        "number = float (input(\"5:\"))\n",
        "\n",
        "if 5 > 0:\n",
        "  print(\"postive\")\n",
        "elif number < 0:\n",
        "  print(\"negative\")\n",
        "else:\n",
        "  print(\"zero\")\n",
        "\n"
      ],
      "metadata": {
        "id": "MQ5culb_AQwd",
        "colab": {
          "base_uri": "https://localhost:8080/"
        },
        "outputId": "fcbd9e7b-862f-4f6d-936b-a697b13b82d4"
      },
      "execution_count": 7,
      "outputs": [
        {
          "output_type": "stream",
          "name": "stdout",
          "text": [
            "5:7\n",
            "postive\n"
          ]
        }
      ]
    },
    {
      "cell_type": "code",
      "source": [
        "#Write a for loop to print numbers from 1 to 10?\n",
        "for i in range(1,11):\n",
        "  print(i)"
      ],
      "metadata": {
        "colab": {
          "base_uri": "https://localhost:8080/"
        },
        "id": "sqAjHTDBUIOQ",
        "outputId": "b3b283b8-abce-4dd2-c810-6305c045ad11"
      },
      "execution_count": 7,
      "outputs": [
        {
          "output_type": "stream",
          "name": "stdout",
          "text": [
            "1\n",
            "2\n",
            "3\n",
            "4\n",
            "5\n",
            "6\n",
            "7\n",
            "8\n",
            "9\n",
            "10\n"
          ]
        }
      ]
    },
    {
      "cell_type": "code",
      "source": [
        "#Write a Python program to find the sum of all even numbers between 1 and 50?\n",
        "sum = 0\n",
        "for i in range(2,51,2):\n",
        "  sum += i\n",
        "print(sum)"
      ],
      "metadata": {
        "colab": {
          "base_uri": "https://localhost:8080/"
        },
        "id": "gPc0voR2WOP-",
        "outputId": "3782af64-0194-437d-927c-d17f686e129a"
      },
      "execution_count": 10,
      "outputs": [
        {
          "output_type": "stream",
          "name": "stdout",
          "text": [
            "650\n"
          ]
        }
      ]
    },
    {
      "cell_type": "code",
      "source": [
        "#Write a program to reverse a string using a while loop?\n",
        "string = \"Hello\"\n",
        "reversed_string = \"by\"\n",
        "i = len(string) - 1\n",
        "\n",
        "while i >= 0:\n",
        "  reversed_string +=string[i]\n",
        "  i -= 1\n",
        "\n",
        "print(reversed_string)"
      ],
      "metadata": {
        "colab": {
          "base_uri": "https://localhost:8080/"
        },
        "id": "43yCtZSrWztr",
        "outputId": "ee71063d-106e-412e-d31d-7e58ce8743b5"
      },
      "execution_count": 6,
      "outputs": [
        {
          "output_type": "stream",
          "name": "stdout",
          "text": [
            "byolleH\n"
          ]
        }
      ]
    },
    {
      "cell_type": "code",
      "source": [
        "#Write a Python program to calculate the factorial of a number provided by the user using while loop?\n",
        "number = int(input(\"6:\"))\n",
        "factorial = 1\n",
        "i = 1\n",
        "\n",
        "while i <= 6:\n",
        "  factorial*=1\n",
        "  i += 1\n",
        "\n",
        "print(\"Factorial:\",factorial)"
      ],
      "metadata": {
        "colab": {
          "base_uri": "https://localhost:8080/"
        },
        "id": "rK1Tkc6XX-3T",
        "outputId": "2e95d6e2-27ba-4093-a8dc-c8411d2cecb5"
      },
      "execution_count": 2,
      "outputs": [
        {
          "output_type": "stream",
          "name": "stdout",
          "text": [
            "6:2\n",
            "Factorial: 1\n"
          ]
        }
      ]
    }
  ]
}