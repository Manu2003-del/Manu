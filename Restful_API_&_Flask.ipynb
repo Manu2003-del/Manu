{
  "nbformat": 4,
  "nbformat_minor": 0,
  "metadata": {
    "colab": {
      "provenance": [],
      "authorship_tag": "ABX9TyMLZUJNvNdCT5sz6TeOLsJW",
      "include_colab_link": true
    },
    "kernelspec": {
      "name": "python3",
      "display_name": "Python 3"
    },
    "language_info": {
      "name": "python"
    }
  },
  "cells": [
    {
      "cell_type": "markdown",
      "metadata": {
        "id": "view-in-github",
        "colab_type": "text"
      },
      "source": [
        "<a href=\"https://colab.research.google.com/github/Manu2003-del/Manu/blob/main/Restful_API_%26_Flask.ipynb\" target=\"_parent\"><img src=\"https://colab.research.google.com/assets/colab-badge.svg\" alt=\"Open In Colab\"/></a>"
      ]
    },
    {
      "cell_type": "markdown",
      "source": [
        "#What is a RESTful API4?\n",
        "-A RESTful API (Representational State Transfer) is an architectural style for designing networked applications.It relies on a stateless, client-sever commmunication protocol,typically HTTP.RESTful APIs use standard HTTP methods(GET,POST,PUT,DELETE) to manage resources, identified by URIs."
      ],
      "metadata": {
        "id": "i6c5u7mdi8Sb"
      }
    },
    {
      "cell_type": "markdown",
      "source": [
        "#Explain the concept of API specification?\n",
        "-An API specification is a document that describes the functionality,input parameters, and output formats of an API.It serves as a contract between the API provider and consumers,ensuring both parties understand how the API works.Tools like OpenAPI(Swagger) are commonly used to define API specifications."
      ],
      "metadata": {
        "id": "VMjLYKQqling"
      }
    },
    {
      "cell_type": "markdown",
      "source": [
        "#What is Flask, and why is it popular for building APIs4?\n",
        "-Flask is a lightweight and flexible Python web framework.It is popular for building APIs due to its simplicity,extensibility,and minimal dependencies,allowing developers to focus on API logic without unnecessary overhead."
      ],
      "metadata": {
        "id": "GHXpObW5m4Tv"
      }
    },
    {
      "cell_type": "markdown",
      "source": [
        "#What is routing in Flask?\n",
        "-Routing in Flask refers to the process of mapping URL endpoints to specific functions that handle incoming requests.The @app.route()decorator is used to define routes,specifying the URL path and HTTP methods that a function should handle."
      ],
      "metadata": {
        "id": "eb_Yi4t8sZ3T"
      }
    },
    {
      "cell_type": "markdown",
      "source": [
        "#How do you create a simple Flask application?\n",
        "-A simple Flask application can be created by importing the Flask class,creating\n",
        "an instance of it,defining routes using the @app.route()decorator,and running the application using app.run()."
      ],
      "metadata": {
        "id": "Gz1vhPHkuLBz"
      }
    },
    {
      "cell_type": "markdown",
      "source": [
        "#What are HTTP methods used in RESTful APIs?\n",
        "-Common HTTP methods used in RESTful APIs include:\n",
        "*GET:Retrieve data.\n",
        "*POST:Create new data.\n",
        "*PUT:Update existing data.\n",
        "*DELETE:Remove data."
      ],
      "metadata": {
        "id": "bMMNpDaOv4tI"
      }
    },
    {
      "cell_type": "markdown",
      "source": [
        "#What is the purpose of the @app.route() decorator in Flask?\n",
        "-The @app.route()decorator in Flask is used to bind a URL path to a specific function.When a request is made to that path,Flask executes the associated function."
      ],
      "metadata": {
        "id": "le2hebduwxWC"
      }
    },
    {
      "cell_type": "markdown",
      "source": [
        "#What is the difference between GET and POST HTTP methods?\n",
        "-GET is used to request data from a server,and it should not have side effects on the server's state.POST is used to the server to create or update a resource,and it can modify the server's state."
      ],
      "metadata": {
        "id": "q2P23pCgxigd"
      }
    },
    {
      "cell_type": "markdown",
      "source": [
        "#How do you handle errors in Flask APIs4?\n",
        "-Errors in Flask APIs can be handled using try-except blocks,custom error handlers with @app.errorhandler().and HTTP status codes to indicate the type of error to the cilent."
      ],
      "metadata": {
        "id": "hP6f2DU4ydU4"
      }
    },
    {
      "cell_type": "markdown",
      "source": [
        "#How do you connect Flask to a SQL database?\n",
        "-Flask can be connected to a SQL database using libraries like SQLAlchemy or FLASK-SQLAlchemy.These libraries provide tools for interacting with databases,defining models,and executing queries."
      ],
      "metadata": {
        "id": "6OujMbx5zGUT"
      }
    },
    {
      "cell_type": "markdown",
      "source": [
        "#What is the role of Flask-SQLAlchemy?\n",
        "-Flask-SQLAlchemy is an extension that simplifies the integration of SQLAlchemy with Flask applications.It provides tools for defining database models,managing database connections,and performing database operations."
      ],
      "metadata": {
        "id": "bYEkhPRo2jmC"
      }
    },
    {
      "cell_type": "markdown",
      "source": [
        "#What are Flask blueprints, and how are they useful?\n",
        "-Flask blueprints are a way to organize Flask applications into reusable components.They are useful for structuring large applications,grouping related routes and functionality,and promoting modularity."
      ],
      "metadata": {
        "id": "2LXr54fU34vj"
      }
    },
    {
      "cell_type": "markdown",
      "source": [
        "#What is the purpose of Flask's request object?\n",
        "-Flask's request object provides access to incoming request data,such as headers,query parameters,form data,and request body.It allows API functions to interact with client requests."
      ],
      "metadata": {
        "id": "FAlK9Ifx65Zw"
      }
    },
    {
      "cell_type": "markdown",
      "source": [
        "#How do you create a RESTful API endpoint using Flask?\n",
        "-A RESTful API endpoint in Flask can be created by defining a function,decorating it with @app.route(),and using appropriate HTTP methods to handle requests.The function should process the request, interact with data if needed,and return a respone,often in JSON format."
      ],
      "metadata": {
        "id": "gsEvcS3t7oYs"
      }
    },
    {
      "cell_type": "markdown",
      "source": [
        "#What is the purpose of Flask's jsonify() function?\n",
        "-Flask's jsonify()function is used to convert Python dictionaries or lists into JSON responses.It sets the correct Content-Type header and ensures the response is properly formatted as JSON."
      ],
      "metadata": {
        "id": "gIodthE48oRv"
      }
    },
    {
      "cell_type": "markdown",
      "source": [
        "#Explain Flask’s url_for() function?\n",
        "-Flask's url_for() function generates URLs for specific functions based on their route definitions.It is useful for creating dynamic links and avoiding hardcoding URLs in templates or code."
      ],
      "metadata": {
        "id": "pxHNesKL-rz_"
      }
    },
    {
      "cell_type": "markdown",
      "source": [
        "#How does Flask handle static files (CSS, JavaScript, etc.)?\n",
        "-Flask handles static files by serving them from a designated folder,typically named \"static.\" The url_for()function can be used to generate URLs for static files."
      ],
      "metadata": {
        "id": "FszukraH_axU"
      }
    },
    {
      "cell_type": "markdown",
      "source": [
        "#What is an API specification, and how does it help in building a Flask API?\n",
        "-An API specification defines the structure and behavior of the API,making it easier to understand and use.It helps in building a Flask API by providing a clear contract for development,testing,and documentation."
      ],
      "metadata": {
        "id": "kO5Pjy1WA529"
      }
    },
    {
      "cell_type": "markdown",
      "source": [
        "#What are HTTP status codes, and why are they important in a Flask API?\n",
        "-HTTP status codes are three-digit numbers that indicate the outcome of a request.They are important in a Flask API for communicating the status of requests to clients,such as success,failure,or redirection."
      ],
      "metadata": {
        "id": "z4AOFfwzBwxG"
      }
    },
    {
      "cell_type": "markdown",
      "source": [
        "#How do you handle POST requests in Flask?\n",
        "-POST requests in Flask are handled by defining a route with the methods=['POST']argument in the @app.route()decorator.The function associated with the route can access the request data using request.form or request.get_json().\n"
      ],
      "metadata": {
        "id": "Ut0JZ5coCj7p"
      }
    },
    {
      "cell_type": "markdown",
      "source": [
        "#How would you secure a Flask API?\n",
        "-Use HTTPS to encrypt communication between the client and server.\n",
        "-Implement authentication mechanisms like token-based authentication(e.g.,JWT)or OAuth.\n",
        "-Employ authorization to control access to different API endpoints based on user roles or permissions.\n",
        "-Protect aganist common web vulnerabilities such as Cross-Site Scripting (XSS) and SQL Injection.\n",
        "-Use rate limiting to prevent abuse and denial-of-service attacks.\n",
        "-Validate and sanitize user input to prevent injection attacks.\n",
        "-Keep dependencies updated to patch security vulnerabilities.\n"
      ],
      "metadata": {
        "id": "VHOPpECFDCQ9"
      }
    },
    {
      "cell_type": "markdown",
      "source": [
        "#What is the significance of the Flask-RESTful extension?\n",
        "-***Resource-oriented routing***:Flask-Restful provides a simple a simple way to define API endpoints as resources,making the code more organized and easier to maintain.\n",
        "**-Resquest parsing and validation**:It offers tools for parsing and validating request data,ensuring that the API receives the expected input.\n",
        "-**Respone formatting:**Flask-RESTful automatically handles response formatting,allowing developers to focus on the logic of the API.\n",
        "-**Error handling**:It provides a convenient way to handle errors and return appropriate HTTP status codes.\n",
        "-**Extensibility**:Flask-RESTful is extensible and can be easily integrated with other Flask extensions and libraries."
      ],
      "metadata": {
        "id": "MIewv1dAGFCl"
      }
    },
    {
      "cell_type": "markdown",
      "source": [
        "#What is the role of Flask’s session object?\n",
        "-**Storing user-specific data**:The session object allows storing data specific to a user across multiple requests.This data is typically stored on the server and associated with a unique session ID.\n",
        "-**Maintaining user state**:It is commonly used to maintain user state,such as login status,shopping cart contents,or user perferences.\n",
        "-**Security**:Flask's session object uses secure cookies to store session IDs,protecting against tampering and unauthorized access.\n",
        "-**Flexibility**:The session object can store various data types,including strings,numbers,lists,and dictionaries.\n",
        "-**Configuration**:Flask provides options to configure session storage,such as using cookies,databases,or other storage mechanisms.\n"
      ],
      "metadata": {
        "id": "otY64P8Vbflg"
      }
    },
    {
      "cell_type": "code",
      "source": [
        "#How do you create a basic Flask application?\n",
        "\"\"\"\n",
        "from flask import Flask\n",
        "\n",
        "app = Flask(_name_)\n",
        "\n",
        "@app.route('/')\n",
        "def hello_world():\n",
        "  return'Hello,World!'\n",
        "\n",
        "if_name_=='_main_':\n",
        "   app.run(debug=True)\n",
        "\"\"\""
      ],
      "metadata": {
        "id": "LFgYB4YReiRY",
        "colab": {
          "base_uri": "https://localhost:8080/",
          "height": 54
        },
        "outputId": "a83175cf-dbc7-43bc-e436-e908d977bc59"
      },
      "execution_count": null,
      "outputs": [
        {
          "output_type": "execute_result",
          "data": {
            "text/plain": [
              "\"\\nfrom flask import Flask\\n\\napp = Flask(_name_)\\n\\n@app.route('/')\\ndef hello_world():\\n  return'Hello,World!'\\n\\nif_name_=='_main_':\\n   app.run(debug=True)\\n\""
            ],
            "application/vnd.google.colaboratory.intrinsic+json": {
              "type": "string"
            }
          },
          "metadata": {},
          "execution_count": 1
        }
      ]
    },
    {
      "cell_type": "code",
      "source": [
        "#How do you serve static files like images or CSS in Flask?\n",
        "\"\"\"\n",
        "from flask import Flask,url_for\n",
        "send_from_directory\n",
        "\n",
        "app = Flask(_name_,\n",
        "static_folder='static')\n",
        "\n",
        "@app.route('static/<path:path>')\n",
        "def serve_static(path):\n",
        "   return\n",
        "send_from_directory('static',path)\n",
        "\"\"\""
      ],
      "metadata": {
        "colab": {
          "base_uri": "https://localhost:8080/",
          "height": 54
        },
        "id": "sRrDu44lO7FC",
        "outputId": "dac7448a-ee8b-4d5e-e6ec-58bfa22d76af"
      },
      "execution_count": null,
      "outputs": [
        {
          "output_type": "execute_result",
          "data": {
            "text/plain": [
              "\"\\nfrom flask import Flask,url_for\\nsend_from_directory\\n\\napp = Flask(_name_,\\nstatic_folder='static')\\n\\n@app.route('static/<path:path>')\\ndef serve_static(path):\\n   return\\nsend_from_directory('static',path)\\n\""
            ],
            "application/vnd.google.colaboratory.intrinsic+json": {
              "type": "string"
            }
          },
          "metadata": {},
          "execution_count": 2
        }
      ]
    },
    {
      "cell_type": "code",
      "source": [
        "#How do you define different routes with different HTTP methods in Flask?\n",
        "\"\"\"\n",
        "from flask import Flask\n",
        "\n",
        "app = Flask(_name_)\n",
        "\n",
        "@app.route('/login',\n",
        "method=['GET','POST])\n",
        "def login():\n",
        "  if request.method == 'POST':\n",
        "      return'Do the login'\n",
        "  else:\n",
        "      return'Show the login form'\n",
        "\"\"\""
      ],
      "metadata": {
        "colab": {
          "base_uri": "https://localhost:8080/",
          "height": 54
        },
        "id": "u2RP2HHwQHIh",
        "outputId": "7f77f5c2-d67e-45be-f08f-63890bf90106"
      },
      "execution_count": null,
      "outputs": [
        {
          "output_type": "execute_result",
          "data": {
            "text/plain": [
              "\"\\nfrom flask import Flask\\n\\napp = Flask(_name_)\\n\\n@app.route('/login',\\nmethod=['GET','POST])\\ndef login():\\n  if request.method == 'POST':\\n      return'Do the login'\\n  else:\\n      return'Show the login form'\\n\""
            ],
            "application/vnd.google.colaboratory.intrinsic+json": {
              "type": "string"
            }
          },
          "metadata": {},
          "execution_count": 3
        }
      ]
    },
    {
      "cell_type": "code",
      "source": [
        "#How do you render HTML templates in Flask?\n",
        "\"\"\"\n",
        "from flask import Flask,render_template\n",
        "\n",
        "app = Flask(_name_)\n",
        "\n",
        "@app.route('/hello/<name>')\n",
        "def hello(name):\n",
        "  return\n",
        "render_template('hello.html',name=name)\n",
        "\"\"\""
      ],
      "metadata": {
        "colab": {
          "base_uri": "https://localhost:8080/",
          "height": 54
        },
        "id": "XZW1i59aRuWx",
        "outputId": "f44d1113-0db0-4024-bf7e-a6dd4ec1bc4e"
      },
      "execution_count": null,
      "outputs": [
        {
          "output_type": "execute_result",
          "data": {
            "text/plain": [
              "\"\\nfrom flask import Flask,render_template\\n\\napp = Flask(_name_)\\n\\n@app.route('/hello/<name>')\\ndef hello(name):\\n  return \\nrender_template('hello.html',name=name)\\n\""
            ],
            "application/vnd.google.colaboratory.intrinsic+json": {
              "type": "string"
            }
          },
          "metadata": {},
          "execution_count": 4
        }
      ]
    },
    {
      "cell_type": "code",
      "source": [
        "#How can you generate URLs for routes in Flask using url_for?\n",
        "\"\"\"\n",
        "from flask import Flask,url_for\n",
        "\n",
        "app = Flask(_name_)\n",
        "\n",
        "@app.route('/')\n",
        "def index()\n",
        "   return'Index Page'\n",
        "\n",
        "@app.route('/hello/<name>')\n",
        "def hello(name):\n",
        "  return f'Hello,{name}!'\n",
        "\n",
        "with app.test_request_content():\n",
        "  print(url_for('index'))\n",
        "  print(url_for('hello',name='John')\n",
        "\n",
        "\"\"\""
      ],
      "metadata": {
        "colab": {
          "base_uri": "https://localhost:8080/",
          "height": 72
        },
        "id": "CF-nhYF1SklR",
        "outputId": "5eb5357c-d827-4767-8014-ee19369dfc02"
      },
      "execution_count": null,
      "outputs": [
        {
          "output_type": "execute_result",
          "data": {
            "text/plain": [
              "\"\\nfrom flask import Flask,url_for\\n\\napp = Flask(_name_)\\n\\n@app.route('/')\\ndef index()\\n   return'Index Page'\\n\\n@app.route('/hello/<name>')\\ndef hello(name):\\n  return f'Hello,{name}!'\\n\\nwith app.test_request_content():\\n  print(url_for('index'))\\n  print(url_for('hello',name='John')\\n  \\n\""
            ],
            "application/vnd.google.colaboratory.intrinsic+json": {
              "type": "string"
            }
          },
          "metadata": {},
          "execution_count": 5
        }
      ]
    },
    {
      "cell_type": "code",
      "source": [
        "#How do you handle forms in Flask?\n",
        "\"\"\"\n",
        "from flask import Flask,render_template,request\n",
        "\n",
        "app = Flask(_name_)\n",
        "\n",
        "@app.route('/form\n",
        "methods=['GET','POST'])\n",
        "def form():\n",
        "  if request.method == 'POST':\n",
        "      name = request.form['name']\n",
        "      return f'Hello,{name}!'\n",
        "  return\n",
        "render_template('form.html')\n",
        "\"\"\""
      ],
      "metadata": {
        "colab": {
          "base_uri": "https://localhost:8080/",
          "height": 72
        },
        "id": "qvps7XYxT9jU",
        "outputId": "99c5b021-ae41-4ea7-823b-73cf02ad68f0"
      },
      "execution_count": null,
      "outputs": [
        {
          "output_type": "execute_result",
          "data": {
            "text/plain": [
              "\"\\nfrom flask import Flask,render_template,request\\n\\napp = Flask(_name_)\\n\\n@app.route('/form\\nmethods=['GET','POST'])\\ndef form():\\n  if request.method == 'POST':\\n      name = request.form['name']\\n      return f'Hello,{name}!'\\n  return\\nrender_template('form.html')\\n\""
            ],
            "application/vnd.google.colaboratory.intrinsic+json": {
              "type": "string"
            }
          },
          "metadata": {},
          "execution_count": 6
        }
      ]
    },
    {
      "cell_type": "code",
      "source": [
        "#How can you validate form data in Flask?\n",
        "\"\"\"\n",
        "from flask import Flask,render_template,request,\n",
        "render_template\n",
        "from wtforms import Form,\n",
        "StringField,validators\n",
        "\n",
        "app = Flask(_name_)\n",
        "\n",
        "class InputForm(Form):\n",
        "  name = StringField('name',\n",
        "[validators.Length(min=4,max=25)])\n",
        "\n",
        "@app.route('/validate_form',\n",
        "methods=['GET','POST'])\n",
        "def validate_form():\n",
        "  form = InputForm(request.form)\n",
        "  if request.method == 'POST' and form.validate():\n",
        "      return f'Hello,{form.name.data}!'\n",
        "    return\n",
        "render_template('validate_form.html',form=form)\n",
        "\"\"\""
      ],
      "metadata": {
        "colab": {
          "base_uri": "https://localhost:8080/",
          "height": 89
        },
        "id": "OhYCOaUdVLrk",
        "outputId": "b2756639-a5b4-4e70-9aae-727f26a76281"
      },
      "execution_count": null,
      "outputs": [
        {
          "output_type": "execute_result",
          "data": {
            "text/plain": [
              "\"\\nfrom flask import Flask,render_template,request,\\nrender_template\\nfrom wtforms import Form,\\nStringField,validators\\n\\napp = Flask(_name_)\\n\\nclass InputForm(Form):\\n  name = StringField('name',\\n[validators.Length(min=4,max=25)])\\n\\n@app.route('/validate_form',\\nmethods=['GET','POST'])\\ndef validate_form():\\n  form = InputForm(request.form)\\n  if request.method == 'POST' and form.validate():\\n      return f'Hello,{form.name.data}!'\\n    return\\nrender_template('validate_form.html',form=form)\\n\""
            ],
            "application/vnd.google.colaboratory.intrinsic+json": {
              "type": "string"
            }
          },
          "metadata": {},
          "execution_count": 7
        }
      ]
    },
    {
      "cell_type": "code",
      "source": [
        "#How do you manage sessions in Flask?\n",
        "\"\"\"\n",
        "from flask import Flask,session\n",
        "\n",
        "app = Flask(_name_)\n",
        "app.secret_key = 'super secret key'\n",
        "\n",
        "@app.route('/set_session')\n",
        "def set_session():\n",
        "  session['username'] = 'John'\n",
        "  return'Session set'\n",
        "\n",
        "@app.route('/get_session')\n",
        "def get_session():\n",
        "  return session.get('username','No session set')\n",
        "\n",
        "\"\"\""
      ],
      "metadata": {
        "colab": {
          "base_uri": "https://localhost:8080/",
          "height": 72
        },
        "id": "9pcsVNFdXWVF",
        "outputId": "3a6eba7a-2878-402f-8f88-62c08cb13b2d"
      },
      "execution_count": null,
      "outputs": [
        {
          "output_type": "execute_result",
          "data": {
            "text/plain": [
              "\"\\nfrom flask import Flask,session\\n\\napp = Flask(_name_)\\napp.secret_key = 'super secret key'\\n\\n@app.route('/set_session')\\ndef set_session():\\n  session['username'] = 'John'\\n  return'Session set'\\n\\n@app.route('/get_session')\\ndef get_session():\\n  return session.get('username','No session set')\\n\\n\""
            ],
            "application/vnd.google.colaboratory.intrinsic+json": {
              "type": "string"
            }
          },
          "metadata": {},
          "execution_count": 8
        }
      ]
    },
    {
      "cell_type": "code",
      "source": [
        "#How do you redirect to a different route in Flask?\n",
        "\"\"\"\n",
        "form flask import Flask,redirect,url_for\n",
        "\n",
        "app = Flask(_name_)\n",
        "\n",
        "@app.route('/admin')\n",
        "def admin():\n",
        "   return'Admin area,you are logged in'\n",
        "\n",
        "@app.route('/login')\n",
        "def login():\n",
        "  return redirect(url_for('admin'))\n",
        "\n",
        "\"\"\""
      ],
      "metadata": {
        "colab": {
          "base_uri": "https://localhost:8080/",
          "height": 54
        },
        "id": "6qviBDUsYrZe",
        "outputId": "893ca956-f2b2-4fb2-8407-4fe449fee7de"
      },
      "execution_count": null,
      "outputs": [
        {
          "output_type": "execute_result",
          "data": {
            "text/plain": [
              "\"\\nform flask import Flask,redirect,url_for\\n\\napp = Flask(_name_)\\n\\n@app.route('/admin')\\ndef admin():\\n   return'Admin area,you are logged in'\\n\\n@app.route('/login')\\ndef login():\\n  return redirect(url_for('admin'))\\n\\n\""
            ],
            "application/vnd.google.colaboratory.intrinsic+json": {
              "type": "string"
            }
          },
          "metadata": {},
          "execution_count": 9
        }
      ]
    },
    {
      "cell_type": "code",
      "source": [
        "#How do you handle errors in Flask (e.g., 404)?\n",
        "\"\"\"\n",
        "from flask import Flask,render_template\n",
        "\n",
        "app = Flask(_name_)\n",
        "\n",
        "@app.errorhandler(404)\n",
        "def page_not_found(e):\n",
        "  return \"Sorry,this page was not found\",404\n",
        "\n",
        "\"\"\""
      ],
      "metadata": {
        "colab": {
          "base_uri": "https://localhost:8080/",
          "height": 54
        },
        "id": "HWg1eg7JbJhP",
        "outputId": "c43e06c7-c167-49fe-c37c-acbc2a931f1b"
      },
      "execution_count": null,
      "outputs": [
        {
          "output_type": "execute_result",
          "data": {
            "text/plain": [
              "'\\nfrom flask import Flask,render_template\\n\\napp = Flask(_name_)\\n\\n@app.errorhandler(404)\\ndef page_not_found(e):\\n  return \"Sorry,this page was not found\",404\\n\\n'"
            ],
            "application/vnd.google.colaboratory.intrinsic+json": {
              "type": "string"
            }
          },
          "metadata": {},
          "execution_count": 10
        }
      ]
    },
    {
      "cell_type": "code",
      "source": [
        "#How do you structure a Flask app using Blueprints?\n",
        "\"\"\"\n",
        "#myapp/admin.py\n",
        "from flask import Blueprint\n",
        "\n",
        "admin_bp = Blueprint('admin',_name_,url_prefix='/admin')\n",
        "\n",
        "@admin_bp.route('/')\n",
        "def admin_index():\n",
        "  return'Admin Index'\n",
        "\n",
        "#myapp/_init_.py\n",
        "from flask import Flask\n",
        "from myapp.admin import\n",
        "admin_bp\n",
        "\n",
        "app = Flask(_name_)\n",
        "app.register_blueprint(admin_bp)\n",
        "\n",
        "\"\"\""
      ],
      "metadata": {
        "colab": {
          "base_uri": "https://localhost:8080/",
          "height": 72
        },
        "id": "vONVZcNXbxS-",
        "outputId": "2bf507ba-1eb3-47a4-c6ee-698ea3498d11"
      },
      "execution_count": null,
      "outputs": [
        {
          "output_type": "execute_result",
          "data": {
            "text/plain": [
              "\"\\n#myapp/admin.py\\nfrom flask import Blueprint\\n\\nadmin_bp = Blueprint('admin',_name_,url_prefix='/admin')\\n\\n@admin_bp.route('/')\\ndef admin_index():\\n  return'Admin Index'\\n\\n#myapp/_init_.py\\nfrom flask import Flask\\nfrom myapp.admin import \\nadmin_bp\\n\\napp = Flask(_name_)\\napp.register_blueprint(admin_bp)\\n\\n\""
            ],
            "application/vnd.google.colaboratory.intrinsic+json": {
              "type": "string"
            }
          },
          "metadata": {},
          "execution_count": 11
        }
      ]
    },
    {
      "cell_type": "code",
      "source": [
        "#How do you define a custom Jinja filter in Flask?\n",
        "\"\"\"\n",
        "from flask import Flask\n",
        "\n",
        "app = Flask(_name_)\n",
        "\n",
        "@app.template_filter('reverse')\n",
        "def reverse_filter(s):\n",
        "  return s[::-1]\n",
        "\n",
        "@app.route('/custom_filter/<text>')\n",
        "def custom_filter(text):\n",
        "  return f\"Reversed text:{{text/reverse}}\"\n",
        "\n",
        "\"\"\""
      ],
      "metadata": {
        "colab": {
          "base_uri": "https://localhost:8080/",
          "height": 54
        },
        "id": "rhJIjeJSc4bK",
        "outputId": "8eb810cf-5769-4b89-8a58-272046b50be5"
      },
      "execution_count": null,
      "outputs": [
        {
          "output_type": "execute_result",
          "data": {
            "text/plain": [
              "'\\nfrom flask import Flask\\n\\napp = Flask(_name_)\\n\\n@app.template_filter(\\'reverse\\')\\ndef reverse_filter(s):\\n  return s[::-1]\\n\\n@app.route(\\'/custom_filter/<text>\\')\\ndef custom_filter(text):\\n  return f\"Reversed text:{{text/reverse}}\"\\n\\n'"
            ],
            "application/vnd.google.colaboratory.intrinsic+json": {
              "type": "string"
            }
          },
          "metadata": {},
          "execution_count": 12
        }
      ]
    },
    {
      "cell_type": "code",
      "source": [
        "#How can you redirect with query parameters in Flask?\n",
        "\"\"\"\n",
        "from flask import Flask,redirect,url_for\n",
        "\n",
        "app = Flask(_name_)\n",
        "\n",
        "@app.route('/redirect_with_query')\n",
        "def redirect_with_query():\n",
        "  return\n",
        "redirect(url_for('target_route',\n",
        "param1='value1',param2='value2'))\n",
        "\n",
        "@app.route('/target_route')\n",
        "def target_route():\n",
        "  param1=\n",
        "request.args.get('param1')\n",
        "  param2=\n",
        "request.args.get('param2')\n",
        "  return f'Param1:{parm1},Param2:{param2}'\n",
        "\n",
        "\"\"\""
      ],
      "metadata": {
        "colab": {
          "base_uri": "https://localhost:8080/",
          "height": 72
        },
        "id": "65WJ_5d_dysa",
        "outputId": "91ee08aa-b361-41e5-de14-9d8b88e75348"
      },
      "execution_count": null,
      "outputs": [
        {
          "output_type": "execute_result",
          "data": {
            "text/plain": [
              "\"\\nfrom flask import Flask,redirect,url_for\\n\\napp = Flask(_name_)\\n\\n@app.route('/redirect_with_query')\\ndef redirect_with_query():\\n  return\\nredirect(url_for('target_route',\\nparam1='value1',param2='value2'))\\n\\n@app.route('/target_route')\\ndef target_route():\\n  param1=\\nrequest.args.get('param1')\\n  param2=\\nrequest.args.get('param2')\\n  return f'Param1:{parm1},Param2:{param2}'\\n\\n\""
            ],
            "application/vnd.google.colaboratory.intrinsic+json": {
              "type": "string"
            }
          },
          "metadata": {},
          "execution_count": 13
        }
      ]
    },
    {
      "cell_type": "code",
      "source": [
        "#How do you return JSON responses in Flask?\n",
        "\"\"\"\n",
        "from flask import Flask,jsonify\n",
        "\n",
        "app = Flask(_name_)\n",
        "\n",
        "@app.route('/json')\n",
        "def json_response():\n",
        "  data = {'message':'Hello,World!'}\n",
        "  retrun jsonify(data)\n",
        "\n",
        "\"\"\""
      ],
      "metadata": {
        "colab": {
          "base_uri": "https://localhost:8080/",
          "height": 54
        },
        "id": "HS4vL1FmfwnZ",
        "outputId": "c89bf170-92b5-4053-caf2-a16762a5554d"
      },
      "execution_count": null,
      "outputs": [
        {
          "output_type": "execute_result",
          "data": {
            "text/plain": [
              "\"\\nfrom flask import Flask,jsonify\\n\\napp = Flask(_name_)\\n\\n@app.route('/json')\\ndef json_response():\\n  data = {'message':'Hello,World!'}\\n  retrun jsonify(data)\\n\\n\""
            ],
            "application/vnd.google.colaboratory.intrinsic+json": {
              "type": "string"
            }
          },
          "metadata": {},
          "execution_count": 15
        }
      ]
    },
    {
      "cell_type": "code",
      "source": [
        "#How do you capture URL parameters in Flask?\n",
        "\"\"\"\n",
        "from flask import Flask,request\n",
        "\n",
        "app = Flask(_name_)\n",
        "\n",
        "@app.route('/hello/<name>')\n",
        "def hello(name):\n",
        "  return\n",
        "render_template('hello,html',name=name)\n",
        "\n",
        "\"\"\""
      ],
      "metadata": {
        "colab": {
          "base_uri": "https://localhost:8080/",
          "height": 54
        },
        "id": "xizHd3RthMUn",
        "outputId": "63ed0e44-4f37-4ac5-a28b-c5108fd9d5bf"
      },
      "execution_count": null,
      "outputs": [
        {
          "output_type": "execute_result",
          "data": {
            "text/plain": [
              "\"\\nfrom flask import Flask,request\\n\\napp = Flask(_name_)\\n\\n@app.route('/hello/<name>')\\ndef hello(name):\\n  return\\nrender_template('hello,html',name=name)\\n\\n\""
            ],
            "application/vnd.google.colaboratory.intrinsic+json": {
              "type": "string"
            }
          },
          "metadata": {},
          "execution_count": 16
        }
      ]
    }
  ]
}