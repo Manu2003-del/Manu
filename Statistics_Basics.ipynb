{
  "nbformat": 4,
  "nbformat_minor": 0,
  "metadata": {
    "colab": {
      "provenance": [],
      "authorship_tag": "ABX9TyNj1uk674Aiek2AX8h0/kZw",
      "include_colab_link": true
    },
    "kernelspec": {
      "name": "python3",
      "display_name": "Python 3"
    },
    "language_info": {
      "name": "python"
    }
  },
  "cells": [
    {
      "cell_type": "markdown",
      "metadata": {
        "id": "view-in-github",
        "colab_type": "text"
      },
      "source": [
        "<a href=\"https://colab.research.google.com/github/Manu2003-del/Manu/blob/main/Statistics_Basics.ipynb\" target=\"_parent\"><img src=\"https://colab.research.google.com/assets/colab-badge.svg\" alt=\"Open In Colab\"/></a>"
      ]
    },
    {
      "cell_type": "markdown",
      "source": [
        "#1.Explain the different types of data (qualitative and quantitative) and provide examples of each. Discuss nominal, ordinal, interval, and ratio scales.\n",
        "-Types of Data:\n",
        "**Qualitative Data**:Describe qualities or characteristics.\n",
        "1.Nominal:Categorical data without order(e.g.,colours,gender).\n",
        "2.Ordinal:Categorical data with order(e.g.,rankings,ratings).\n",
        "\n",
        "**Quantitative Data**:Numerical data.\n",
        "1.Interval:Data with equal intervals but no true zero(e.g.,temperature in Celsius).\n",
        "2.Ratio:Data with equal intervals and a true zero(e.g.,height,weight)"
      ],
      "metadata": {
        "id": "v8aOAQHMosBT"
      }
    },
    {
      "cell_type": "markdown",
      "source": [
        "#2.What are the measures of central tendency, and when should you use each? Discuss the mean, median,and mode with examples and situations where each is appropriate.\n",
        "-Measures of Central Tendency:\n",
        "1.Mean:Average of all values;used for normally distributed data without outliers.\n",
        "2.Median:Middle value when data is ordered;used for skewed data or data with outliers.\n",
        "3.Mode:Most frequent value;used for categorical data or identifying common occurrences."
      ],
      "metadata": {
        "id": "cX89jl3Vsc_t"
      }
    },
    {
      "cell_type": "markdown",
      "source": [
        "#3.Explain the concept of dispersion. How do variance and standard deviation measure the spread of data?\n",
        "-Concept of Dispersion:\n",
        "1.Dispersion measures the spread of data points in a dataset.\n",
        "2.Variance:Average of the squared differences from the mean.\n",
        "3.Standard Deviation:Square root of variance;measures the average distance of data points from the mean."
      ],
      "metadata": {
        "id": "MDPxOgX52mur"
      }
    },
    {
      "cell_type": "markdown",
      "source": [
        "#4.What is a box plot, and what can it tell you about the distribution of data?\n",
        "-Box Plot:\n",
        "1.A graphical representation of data distribution showing the median,quartiles,and outliers.\n",
        "2.It can tell about the center,spread,and skewness of the data."
      ],
      "metadata": {
        "id": "WotDs0la3kFZ"
      }
    },
    {
      "cell_type": "markdown",
      "source": [
        "#5.Discuss the role of random sampling in making inferences about populations.\n",
        "-Role of Random Sampling:\n",
        "1.Random sampling ensures has an equal chance of being selected.\n",
        "2.It allows for making valid inferences about the population from the sample data."
      ],
      "metadata": {
        "id": "wtUxFz6J4neR"
      }
    },
    {
      "cell_type": "markdown",
      "source": [
        "#6.Explain the concept of skewness and its types. How does skewness affect the interpretation of data?\n",
        "-Concept of Skewness:\n",
        "1.Skewness measures the asymmetry of a probability distribution.\n",
        "2.Positive Skew:Tail on the right;mean>median.\n",
        "3.Negative Skew:Tail on the left:mean<median.\n",
        "4.Skewness affects the interpretation of data by indicating the direction and extent of the data's deviation from normality."
      ],
      "metadata": {
        "id": "S-7XFp_e94Gm"
      }
    },
    {
      "cell_type": "markdown",
      "source": [
        "#7.What is the interquartile range (IQR), and how is it used to detect outliers?\n",
        "-Interquartile Range (IQR):\n",
        "1.IQR is the range between the first quartile (Q1)and the third quartile(Q3).\n",
        "2.Used to detect outliers by defining the boundaries outside of which data points are considered outliers(e.g.,below Q1-1.5IQR or Q3 + 1.5IQR)."
      ],
      "metadata": {
        "id": "7-9_eM8YGrxW"
      }
    },
    {
      "cell_type": "markdown",
      "source": [
        "#8.Discuss the conditions under which the binomial distribution is used.\n",
        "-Conditions for Binomail Distribution:\n",
        "1.Fixed number of trials.\n",
        "2.Each trial is independent.\n",
        "3.Two possible outcome (success or failure).\n",
        "4.Probability of success is constant across trials."
      ],
      "metadata": {
        "id": "BCJpjxVoKUzq"
      }
    },
    {
      "cell_type": "markdown",
      "source": [
        "#9.Explain the properties of the normal distribution and the empirical rule (68-95-99.7 rule).\n",
        "-Properties of Normal Distribution and Empirical Rule:\n",
        "1.Normal distribution is symmetric,bell-shaped,and defined by mean and standard deviation.\n",
        "**Empirical Rule:**\n",
        "1.68% of data within 1 standard deviation of the mean.\n",
        "2.95% of data within 2 standard deviations of the mean.\n",
        "3.99.7% of data within 3 standard deviations of the mean."
      ],
      "metadata": {
        "id": "jzxsBJRaLXTh"
      }
    },
    {
      "cell_type": "markdown",
      "source": [
        "#10.Provide a real-life example of a Poisson process and calculate the probability for a specific event.\n",
        "-**Poisson Process Example:**\n",
        "1.Example:Number of customers arriving at a store in an hour.\n",
        "2.To calculate the probability of a specific event,use the poisson probability formula:\n",
        "-P(x;λ)=(e^-λ*λ^x)/x!\n",
        "-Where:\n",
        "  -x is the number of events.\n",
        "  -λ is the average rate of events.\n",
        "  -e is approximately 2.71828."
      ],
      "metadata": {
        "id": "iVT8zgbxvx0O"
      }
    },
    {
      "cell_type": "markdown",
      "source": [
        "#11.Explain what a random variable is and differentiate between discrete and continuous random variables.\n",
        "-A random variable is a variable whose value is a numerical outcome of a random phenomenon,and can be either discrete(countable values)or continuous(values within a range).[1,2,3,4,5]\n",
        "Here's a more detailed explanation:[2,3]\n",
        "1.**Random Variable:**A random variable is a function that assigns a numerical value to each possible outcome of a random experiment or phenomenon.[2,3]\n",
        "2.**Discrete Random Variable**:A discrete random variable can only take on a finite or countably infinite number of values,meaning the values are distinct and separate.[1,4,6]\n",
        " -Examples:The number of heads in a coin toss(can be 0,1,2,e.t.c),the number of cars passing a certain point in an hour,or the number of students in class.[1,6,7]\n",
        "\n",
        "-Continuous Random Variable:A continuous random variable can take on any value within a specified range,meaning the values are not limited to specific points but can take on any value within that range.[1,4,6]\n",
        " -Examples:The height of a person,the tempertaure of a room,or the weight of a product.[1,6,7]\n",
        "\n",
        "-Probability Distribution:[4,8,9]\n",
        " -Discrete:The probability distribution of a discrete random variable is described by a probability mass function(PMF),which assigns probabilites to each possible value.[4,8,9]\n",
        "-Continuous:The probability distribution of a continuous random variable is described by a probability density function (PDF),which describes the probability of the variable falling within a certain range.[4,8,9]"
      ],
      "metadata": {
        "id": "ykqBS8Iz2qCf"
      }
    },
    {
      "cell_type": "markdown",
      "source": [
        "#12.Provide an example dataset, calculate both covariance and correlation, and interpret the results.\n",
        "-"
      ],
      "metadata": {
        "id": "nVQX-k8hF3a8"
      }
    }
  ]
}